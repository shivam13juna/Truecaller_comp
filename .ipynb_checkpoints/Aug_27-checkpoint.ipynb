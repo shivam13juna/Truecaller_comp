{
 "cells": [
  {
   "cell_type": "code",
   "execution_count": 120,
   "metadata": {},
   "outputs": [],
   "source": [
    "import numpy as np\n",
    "import pandas as pd\n",
    "import matplotlib.pyplot as plt\n",
    "pd.options.display.float_format = '{:,.2f}'.format\n",
    "import re\n",
    "\n",
    "\n",
    "\n",
    "%matplotlib inline"
   ]
  },
  {
   "cell_type": "markdown",
   "metadata": {},
   "source": [
    "### Truecaller candidate test\n",
    "\n",
    "    Canditates : Data Roles\n",
    "                 0-2y\n",
    "                 Data Interns, Data Analyst, Associate Data Scientist\n",
    "    \n",
    "    Difficulty : (Level 1-3) of Level 5\n",
    "    \n",
    " ``Please try to use functions and classes where-ever possible, be descriptive & efficient with your code, best of luck!``"
   ]
  },
  {
   "cell_type": "markdown",
   "metadata": {},
   "source": [
    "## Questions S1"
   ]
  },
  {
   "cell_type": "markdown",
   "metadata": {},
   "source": [
    "### Telecom industry - Q1\n",
    "Dataset -> `TelecomData_WeeklyData.csv`\n",
    "\n",
    "CUSTID: Is the unique customer information stored in the system\n",
    "In our case, it is only 1 customer information\n",
    "\n",
    "Week: Capture the spending and usage information for each week of the customer duration with the company\n",
    "We have 6 month or 24 weeks weekly information for the customer\n",
    "\n",
    "Calls: The number of calls made by the customer each week. It is the frequency of the calls\n",
    "Minutes: The total minutes spent each week on the calls\n",
    "    \n",
    "Amt: The total weekly spending by the customer for the use of telecom service"
   ]
  },
  {
   "cell_type": "markdown",
   "metadata": {},
   "source": [
    "Q1 - A telecom operator company wishes have some of their most active/spend worthy users rewarded to reduce churn, statistically find these users and graphically plot them based on variables in-order to select the best chunk of users?\n",
    "\n",
    "\n",
    "Q2 - Who are our customers? Profile them elaborately \n",
    "\n",
    "\n",
    "Q3 - The startup has 4 offers running on a daily basis (valid for a day)\n",
    "\t\tRecharge - 20 for 10 Mins\n",
    "\t\tRecharge - 30 for 40 Mins\n",
    "\t\tRecharge - 40 for 80 Mins\n",
    "\t\tRecharge - 50 for 100 Mins\n",
    "\n",
    "Their second recharge pack doesn't seem to perform as required, the others fetching ~100 recharges per day in a week on what day would it be advisable for the company to sell these recharges and boost calls made by users\n",
    "\n",
    "Q4 - An investor wishes to see week,month and yearly metrics, derive maxmimum insights from the data\n",
    "\n",
    "Q5 - Insight day is here again, provide insights about each user, around (hours,calls,amount etc) etc, provide insights about 5-6 users based on their significant behaviour "
   ]
  },
  {
   "cell_type": "code",
   "execution_count": 7,
   "metadata": {},
   "outputs": [],
   "source": [
    "q1 = pd.read_csv('Datasets/TelecomData_WeeklyData.csv')"
   ]
  },
  {
   "cell_type": "code",
   "execution_count": 8,
   "metadata": {},
   "outputs": [
    {
     "data": {
      "text/html": [
       "<div>\n",
       "<style scoped>\n",
       "    .dataframe tbody tr th:only-of-type {\n",
       "        vertical-align: middle;\n",
       "    }\n",
       "\n",
       "    .dataframe tbody tr th {\n",
       "        vertical-align: top;\n",
       "    }\n",
       "\n",
       "    .dataframe thead th {\n",
       "        text-align: right;\n",
       "    }\n",
       "</style>\n",
       "<table border=\"1\" class=\"dataframe\">\n",
       "  <thead>\n",
       "    <tr style=\"text-align: right;\">\n",
       "      <th></th>\n",
       "      <th>CustID</th>\n",
       "      <th>Week</th>\n",
       "      <th>Calls</th>\n",
       "      <th>Minutes</th>\n",
       "      <th>Amt</th>\n",
       "    </tr>\n",
       "  </thead>\n",
       "  <tbody>\n",
       "    <tr>\n",
       "      <th>24</th>\n",
       "      <td>nan</td>\n",
       "      <td>nan</td>\n",
       "      <td>nan</td>\n",
       "      <td>nan</td>\n",
       "      <td>nan</td>\n",
       "    </tr>\n",
       "    <tr>\n",
       "      <th>25</th>\n",
       "      <td>nan</td>\n",
       "      <td>nan</td>\n",
       "      <td>nan</td>\n",
       "      <td>nan</td>\n",
       "      <td>nan</td>\n",
       "    </tr>\n",
       "    <tr>\n",
       "      <th>50</th>\n",
       "      <td>nan</td>\n",
       "      <td>nan</td>\n",
       "      <td>nan</td>\n",
       "      <td>nan</td>\n",
       "      <td>nan</td>\n",
       "    </tr>\n",
       "    <tr>\n",
       "      <th>51</th>\n",
       "      <td>nan</td>\n",
       "      <td>nan</td>\n",
       "      <td>nan</td>\n",
       "      <td>nan</td>\n",
       "      <td>nan</td>\n",
       "    </tr>\n",
       "    <tr>\n",
       "      <th>76</th>\n",
       "      <td>nan</td>\n",
       "      <td>nan</td>\n",
       "      <td>nan</td>\n",
       "      <td>nan</td>\n",
       "      <td>nan</td>\n",
       "    </tr>\n",
       "    <tr>\n",
       "      <th>77</th>\n",
       "      <td>nan</td>\n",
       "      <td>nan</td>\n",
       "      <td>nan</td>\n",
       "      <td>nan</td>\n",
       "      <td>nan</td>\n",
       "    </tr>\n",
       "    <tr>\n",
       "      <th>102</th>\n",
       "      <td>nan</td>\n",
       "      <td>nan</td>\n",
       "      <td>nan</td>\n",
       "      <td>nan</td>\n",
       "      <td>nan</td>\n",
       "    </tr>\n",
       "    <tr>\n",
       "      <th>103</th>\n",
       "      <td>nan</td>\n",
       "      <td>nan</td>\n",
       "      <td>nan</td>\n",
       "      <td>nan</td>\n",
       "      <td>nan</td>\n",
       "    </tr>\n",
       "    <tr>\n",
       "      <th>149</th>\n",
       "      <td>nan</td>\n",
       "      <td>nan</td>\n",
       "      <td>nan</td>\n",
       "      <td>nan</td>\n",
       "      <td>nan</td>\n",
       "    </tr>\n",
       "    <tr>\n",
       "      <th>150</th>\n",
       "      <td>nan</td>\n",
       "      <td>nan</td>\n",
       "      <td>nan</td>\n",
       "      <td>nan</td>\n",
       "      <td>nan</td>\n",
       "    </tr>\n",
       "    <tr>\n",
       "      <th>175</th>\n",
       "      <td>nan</td>\n",
       "      <td>nan</td>\n",
       "      <td>nan</td>\n",
       "      <td>nan</td>\n",
       "      <td>nan</td>\n",
       "    </tr>\n",
       "    <tr>\n",
       "      <th>176</th>\n",
       "      <td>nan</td>\n",
       "      <td>nan</td>\n",
       "      <td>nan</td>\n",
       "      <td>nan</td>\n",
       "      <td>nan</td>\n",
       "    </tr>\n",
       "    <tr>\n",
       "      <th>201</th>\n",
       "      <td>nan</td>\n",
       "      <td>nan</td>\n",
       "      <td>nan</td>\n",
       "      <td>nan</td>\n",
       "      <td>nan</td>\n",
       "    </tr>\n",
       "    <tr>\n",
       "      <th>202</th>\n",
       "      <td>nan</td>\n",
       "      <td>nan</td>\n",
       "      <td>nan</td>\n",
       "      <td>nan</td>\n",
       "      <td>nan</td>\n",
       "    </tr>\n",
       "    <tr>\n",
       "      <th>227</th>\n",
       "      <td>nan</td>\n",
       "      <td>nan</td>\n",
       "      <td>nan</td>\n",
       "      <td>nan</td>\n",
       "      <td>nan</td>\n",
       "    </tr>\n",
       "    <tr>\n",
       "      <th>228</th>\n",
       "      <td>nan</td>\n",
       "      <td>nan</td>\n",
       "      <td>nan</td>\n",
       "      <td>nan</td>\n",
       "      <td>nan</td>\n",
       "    </tr>\n",
       "    <tr>\n",
       "      <th>253</th>\n",
       "      <td>nan</td>\n",
       "      <td>nan</td>\n",
       "      <td>nan</td>\n",
       "      <td>nan</td>\n",
       "      <td>nan</td>\n",
       "    </tr>\n",
       "    <tr>\n",
       "      <th>254</th>\n",
       "      <td>nan</td>\n",
       "      <td>nan</td>\n",
       "      <td>nan</td>\n",
       "      <td>nan</td>\n",
       "      <td>nan</td>\n",
       "    </tr>\n",
       "    <tr>\n",
       "      <th>279</th>\n",
       "      <td>nan</td>\n",
       "      <td>nan</td>\n",
       "      <td>nan</td>\n",
       "      <td>nan</td>\n",
       "      <td>nan</td>\n",
       "    </tr>\n",
       "    <tr>\n",
       "      <th>280</th>\n",
       "      <td>nan</td>\n",
       "      <td>nan</td>\n",
       "      <td>nan</td>\n",
       "      <td>nan</td>\n",
       "      <td>nan</td>\n",
       "    </tr>\n",
       "    <tr>\n",
       "      <th>305</th>\n",
       "      <td>nan</td>\n",
       "      <td>nan</td>\n",
       "      <td>nan</td>\n",
       "      <td>nan</td>\n",
       "      <td>nan</td>\n",
       "    </tr>\n",
       "    <tr>\n",
       "      <th>306</th>\n",
       "      <td>nan</td>\n",
       "      <td>nan</td>\n",
       "      <td>nan</td>\n",
       "      <td>nan</td>\n",
       "      <td>nan</td>\n",
       "    </tr>\n",
       "    <tr>\n",
       "      <th>331</th>\n",
       "      <td>nan</td>\n",
       "      <td>nan</td>\n",
       "      <td>nan</td>\n",
       "      <td>nan</td>\n",
       "      <td>nan</td>\n",
       "    </tr>\n",
       "    <tr>\n",
       "      <th>332</th>\n",
       "      <td>nan</td>\n",
       "      <td>nan</td>\n",
       "      <td>nan</td>\n",
       "      <td>nan</td>\n",
       "      <td>nan</td>\n",
       "    </tr>\n",
       "    <tr>\n",
       "      <th>357</th>\n",
       "      <td>nan</td>\n",
       "      <td>nan</td>\n",
       "      <td>nan</td>\n",
       "      <td>nan</td>\n",
       "      <td>nan</td>\n",
       "    </tr>\n",
       "    <tr>\n",
       "      <th>358</th>\n",
       "      <td>nan</td>\n",
       "      <td>nan</td>\n",
       "      <td>nan</td>\n",
       "      <td>nan</td>\n",
       "      <td>nan</td>\n",
       "    </tr>\n",
       "    <tr>\n",
       "      <th>383</th>\n",
       "      <td>nan</td>\n",
       "      <td>nan</td>\n",
       "      <td>nan</td>\n",
       "      <td>nan</td>\n",
       "      <td>nan</td>\n",
       "    </tr>\n",
       "    <tr>\n",
       "      <th>384</th>\n",
       "      <td>nan</td>\n",
       "      <td>nan</td>\n",
       "      <td>nan</td>\n",
       "      <td>nan</td>\n",
       "      <td>nan</td>\n",
       "    </tr>\n",
       "    <tr>\n",
       "      <th>409</th>\n",
       "      <td>nan</td>\n",
       "      <td>nan</td>\n",
       "      <td>nan</td>\n",
       "      <td>nan</td>\n",
       "      <td>nan</td>\n",
       "    </tr>\n",
       "    <tr>\n",
       "      <th>410</th>\n",
       "      <td>nan</td>\n",
       "      <td>nan</td>\n",
       "      <td>nan</td>\n",
       "      <td>nan</td>\n",
       "      <td>nan</td>\n",
       "    </tr>\n",
       "    <tr>\n",
       "      <th>...</th>\n",
       "      <td>...</td>\n",
       "      <td>...</td>\n",
       "      <td>...</td>\n",
       "      <td>...</td>\n",
       "      <td>...</td>\n",
       "    </tr>\n",
       "    <tr>\n",
       "      <th>23483</th>\n",
       "      <td>nan</td>\n",
       "      <td>nan</td>\n",
       "      <td>nan</td>\n",
       "      <td>nan</td>\n",
       "      <td>nan</td>\n",
       "    </tr>\n",
       "    <tr>\n",
       "      <th>23484</th>\n",
       "      <td>nan</td>\n",
       "      <td>nan</td>\n",
       "      <td>nan</td>\n",
       "      <td>nan</td>\n",
       "      <td>nan</td>\n",
       "    </tr>\n",
       "    <tr>\n",
       "      <th>23505</th>\n",
       "      <td>nan</td>\n",
       "      <td>nan</td>\n",
       "      <td>nan</td>\n",
       "      <td>nan</td>\n",
       "      <td>nan</td>\n",
       "    </tr>\n",
       "    <tr>\n",
       "      <th>23506</th>\n",
       "      <td>nan</td>\n",
       "      <td>nan</td>\n",
       "      <td>nan</td>\n",
       "      <td>nan</td>\n",
       "      <td>nan</td>\n",
       "    </tr>\n",
       "    <tr>\n",
       "      <th>23542</th>\n",
       "      <td>nan</td>\n",
       "      <td>nan</td>\n",
       "      <td>nan</td>\n",
       "      <td>nan</td>\n",
       "      <td>nan</td>\n",
       "    </tr>\n",
       "    <tr>\n",
       "      <th>23543</th>\n",
       "      <td>nan</td>\n",
       "      <td>nan</td>\n",
       "      <td>nan</td>\n",
       "      <td>nan</td>\n",
       "      <td>nan</td>\n",
       "    </tr>\n",
       "    <tr>\n",
       "      <th>23564</th>\n",
       "      <td>nan</td>\n",
       "      <td>nan</td>\n",
       "      <td>nan</td>\n",
       "      <td>nan</td>\n",
       "      <td>nan</td>\n",
       "    </tr>\n",
       "    <tr>\n",
       "      <th>23565</th>\n",
       "      <td>nan</td>\n",
       "      <td>nan</td>\n",
       "      <td>nan</td>\n",
       "      <td>nan</td>\n",
       "      <td>nan</td>\n",
       "    </tr>\n",
       "    <tr>\n",
       "      <th>23586</th>\n",
       "      <td>nan</td>\n",
       "      <td>nan</td>\n",
       "      <td>nan</td>\n",
       "      <td>nan</td>\n",
       "      <td>nan</td>\n",
       "    </tr>\n",
       "    <tr>\n",
       "      <th>23587</th>\n",
       "      <td>nan</td>\n",
       "      <td>nan</td>\n",
       "      <td>nan</td>\n",
       "      <td>nan</td>\n",
       "      <td>nan</td>\n",
       "    </tr>\n",
       "    <tr>\n",
       "      <th>23608</th>\n",
       "      <td>nan</td>\n",
       "      <td>nan</td>\n",
       "      <td>nan</td>\n",
       "      <td>nan</td>\n",
       "      <td>nan</td>\n",
       "    </tr>\n",
       "    <tr>\n",
       "      <th>23609</th>\n",
       "      <td>nan</td>\n",
       "      <td>nan</td>\n",
       "      <td>nan</td>\n",
       "      <td>nan</td>\n",
       "      <td>nan</td>\n",
       "    </tr>\n",
       "    <tr>\n",
       "      <th>23630</th>\n",
       "      <td>nan</td>\n",
       "      <td>nan</td>\n",
       "      <td>nan</td>\n",
       "      <td>nan</td>\n",
       "      <td>nan</td>\n",
       "    </tr>\n",
       "    <tr>\n",
       "      <th>23631</th>\n",
       "      <td>nan</td>\n",
       "      <td>nan</td>\n",
       "      <td>nan</td>\n",
       "      <td>nan</td>\n",
       "      <td>nan</td>\n",
       "    </tr>\n",
       "    <tr>\n",
       "      <th>23652</th>\n",
       "      <td>nan</td>\n",
       "      <td>nan</td>\n",
       "      <td>nan</td>\n",
       "      <td>nan</td>\n",
       "      <td>nan</td>\n",
       "    </tr>\n",
       "    <tr>\n",
       "      <th>23653</th>\n",
       "      <td>nan</td>\n",
       "      <td>nan</td>\n",
       "      <td>nan</td>\n",
       "      <td>nan</td>\n",
       "      <td>nan</td>\n",
       "    </tr>\n",
       "    <tr>\n",
       "      <th>23674</th>\n",
       "      <td>nan</td>\n",
       "      <td>nan</td>\n",
       "      <td>nan</td>\n",
       "      <td>nan</td>\n",
       "      <td>nan</td>\n",
       "    </tr>\n",
       "    <tr>\n",
       "      <th>23675</th>\n",
       "      <td>nan</td>\n",
       "      <td>nan</td>\n",
       "      <td>nan</td>\n",
       "      <td>nan</td>\n",
       "      <td>nan</td>\n",
       "    </tr>\n",
       "    <tr>\n",
       "      <th>23696</th>\n",
       "      <td>nan</td>\n",
       "      <td>nan</td>\n",
       "      <td>nan</td>\n",
       "      <td>nan</td>\n",
       "      <td>nan</td>\n",
       "    </tr>\n",
       "    <tr>\n",
       "      <th>23697</th>\n",
       "      <td>nan</td>\n",
       "      <td>nan</td>\n",
       "      <td>nan</td>\n",
       "      <td>nan</td>\n",
       "      <td>nan</td>\n",
       "    </tr>\n",
       "    <tr>\n",
       "      <th>23718</th>\n",
       "      <td>nan</td>\n",
       "      <td>nan</td>\n",
       "      <td>nan</td>\n",
       "      <td>nan</td>\n",
       "      <td>nan</td>\n",
       "    </tr>\n",
       "    <tr>\n",
       "      <th>23719</th>\n",
       "      <td>nan</td>\n",
       "      <td>nan</td>\n",
       "      <td>nan</td>\n",
       "      <td>nan</td>\n",
       "      <td>nan</td>\n",
       "    </tr>\n",
       "    <tr>\n",
       "      <th>23740</th>\n",
       "      <td>nan</td>\n",
       "      <td>nan</td>\n",
       "      <td>nan</td>\n",
       "      <td>nan</td>\n",
       "      <td>nan</td>\n",
       "    </tr>\n",
       "    <tr>\n",
       "      <th>23741</th>\n",
       "      <td>nan</td>\n",
       "      <td>nan</td>\n",
       "      <td>nan</td>\n",
       "      <td>nan</td>\n",
       "      <td>nan</td>\n",
       "    </tr>\n",
       "    <tr>\n",
       "      <th>23762</th>\n",
       "      <td>nan</td>\n",
       "      <td>nan</td>\n",
       "      <td>nan</td>\n",
       "      <td>nan</td>\n",
       "      <td>nan</td>\n",
       "    </tr>\n",
       "    <tr>\n",
       "      <th>23763</th>\n",
       "      <td>nan</td>\n",
       "      <td>nan</td>\n",
       "      <td>nan</td>\n",
       "      <td>nan</td>\n",
       "      <td>nan</td>\n",
       "    </tr>\n",
       "    <tr>\n",
       "      <th>23784</th>\n",
       "      <td>nan</td>\n",
       "      <td>nan</td>\n",
       "      <td>nan</td>\n",
       "      <td>nan</td>\n",
       "      <td>nan</td>\n",
       "    </tr>\n",
       "    <tr>\n",
       "      <th>23785</th>\n",
       "      <td>nan</td>\n",
       "      <td>nan</td>\n",
       "      <td>nan</td>\n",
       "      <td>nan</td>\n",
       "      <td>nan</td>\n",
       "    </tr>\n",
       "    <tr>\n",
       "      <th>23806</th>\n",
       "      <td>nan</td>\n",
       "      <td>nan</td>\n",
       "      <td>nan</td>\n",
       "      <td>nan</td>\n",
       "      <td>nan</td>\n",
       "    </tr>\n",
       "    <tr>\n",
       "      <th>23807</th>\n",
       "      <td>nan</td>\n",
       "      <td>nan</td>\n",
       "      <td>nan</td>\n",
       "      <td>nan</td>\n",
       "      <td>nan</td>\n",
       "    </tr>\n",
       "  </tbody>\n",
       "</table>\n",
       "<p>1926 rows × 5 columns</p>\n",
       "</div>"
      ],
      "text/plain": [
       "       CustID  Week  Calls  Minutes  Amt\n",
       "24        nan   nan    nan      nan  nan\n",
       "25        nan   nan    nan      nan  nan\n",
       "50        nan   nan    nan      nan  nan\n",
       "51        nan   nan    nan      nan  nan\n",
       "76        nan   nan    nan      nan  nan\n",
       "77        nan   nan    nan      nan  nan\n",
       "102       nan   nan    nan      nan  nan\n",
       "103       nan   nan    nan      nan  nan\n",
       "149       nan   nan    nan      nan  nan\n",
       "150       nan   nan    nan      nan  nan\n",
       "175       nan   nan    nan      nan  nan\n",
       "176       nan   nan    nan      nan  nan\n",
       "201       nan   nan    nan      nan  nan\n",
       "202       nan   nan    nan      nan  nan\n",
       "227       nan   nan    nan      nan  nan\n",
       "228       nan   nan    nan      nan  nan\n",
       "253       nan   nan    nan      nan  nan\n",
       "254       nan   nan    nan      nan  nan\n",
       "279       nan   nan    nan      nan  nan\n",
       "280       nan   nan    nan      nan  nan\n",
       "305       nan   nan    nan      nan  nan\n",
       "306       nan   nan    nan      nan  nan\n",
       "331       nan   nan    nan      nan  nan\n",
       "332       nan   nan    nan      nan  nan\n",
       "357       nan   nan    nan      nan  nan\n",
       "358       nan   nan    nan      nan  nan\n",
       "383       nan   nan    nan      nan  nan\n",
       "384       nan   nan    nan      nan  nan\n",
       "409       nan   nan    nan      nan  nan\n",
       "410       nan   nan    nan      nan  nan\n",
       "...       ...   ...    ...      ...  ...\n",
       "23483     nan   nan    nan      nan  nan\n",
       "23484     nan   nan    nan      nan  nan\n",
       "23505     nan   nan    nan      nan  nan\n",
       "23506     nan   nan    nan      nan  nan\n",
       "23542     nan   nan    nan      nan  nan\n",
       "23543     nan   nan    nan      nan  nan\n",
       "23564     nan   nan    nan      nan  nan\n",
       "23565     nan   nan    nan      nan  nan\n",
       "23586     nan   nan    nan      nan  nan\n",
       "23587     nan   nan    nan      nan  nan\n",
       "23608     nan   nan    nan      nan  nan\n",
       "23609     nan   nan    nan      nan  nan\n",
       "23630     nan   nan    nan      nan  nan\n",
       "23631     nan   nan    nan      nan  nan\n",
       "23652     nan   nan    nan      nan  nan\n",
       "23653     nan   nan    nan      nan  nan\n",
       "23674     nan   nan    nan      nan  nan\n",
       "23675     nan   nan    nan      nan  nan\n",
       "23696     nan   nan    nan      nan  nan\n",
       "23697     nan   nan    nan      nan  nan\n",
       "23718     nan   nan    nan      nan  nan\n",
       "23719     nan   nan    nan      nan  nan\n",
       "23740     nan   nan    nan      nan  nan\n",
       "23741     nan   nan    nan      nan  nan\n",
       "23762     nan   nan    nan      nan  nan\n",
       "23763     nan   nan    nan      nan  nan\n",
       "23784     nan   nan    nan      nan  nan\n",
       "23785     nan   nan    nan      nan  nan\n",
       "23806     nan   nan    nan      nan  nan\n",
       "23807     nan   nan    nan      nan  nan\n",
       "\n",
       "[1926 rows x 5 columns]"
      ]
     },
     "execution_count": 8,
     "metadata": {},
     "output_type": "execute_result"
    }
   ],
   "source": [
    "q1[q1['CustID'].isna()] #Better off removing them, as they provide no value whatsoever"
   ]
  },
  {
   "cell_type": "code",
   "execution_count": 9,
   "metadata": {},
   "outputs": [],
   "source": [
    "q1.dropna(inplace=True)"
   ]
  },
  {
   "cell_type": "code",
   "execution_count": 10,
   "metadata": {},
   "outputs": [
    {
     "name": "stdout",
     "output_type": "stream",
     "text": [
      "(21902, 5)\n"
     ]
    },
    {
     "data": {
      "text/html": [
       "<div>\n",
       "<style scoped>\n",
       "    .dataframe tbody tr th:only-of-type {\n",
       "        vertical-align: middle;\n",
       "    }\n",
       "\n",
       "    .dataframe tbody tr th {\n",
       "        vertical-align: top;\n",
       "    }\n",
       "\n",
       "    .dataframe thead th {\n",
       "        text-align: right;\n",
       "    }\n",
       "</style>\n",
       "<table border=\"1\" class=\"dataframe\">\n",
       "  <thead>\n",
       "    <tr style=\"text-align: right;\">\n",
       "      <th></th>\n",
       "      <th>CustID</th>\n",
       "      <th>Week</th>\n",
       "      <th>Calls</th>\n",
       "      <th>Minutes</th>\n",
       "      <th>Amt</th>\n",
       "    </tr>\n",
       "  </thead>\n",
       "  <tbody>\n",
       "    <tr>\n",
       "      <th>0</th>\n",
       "      <td>1,001.00</td>\n",
       "      <td>1.00</td>\n",
       "      <td>56.00</td>\n",
       "      <td>392.00</td>\n",
       "      <td>78.40</td>\n",
       "    </tr>\n",
       "    <tr>\n",
       "      <th>1</th>\n",
       "      <td>1,001.00</td>\n",
       "      <td>2.00</td>\n",
       "      <td>49.00</td>\n",
       "      <td>735.00</td>\n",
       "      <td>154.35</td>\n",
       "    </tr>\n",
       "    <tr>\n",
       "      <th>2</th>\n",
       "      <td>1,001.00</td>\n",
       "      <td>3.00</td>\n",
       "      <td>140.00</td>\n",
       "      <td>420.00</td>\n",
       "      <td>126.00</td>\n",
       "    </tr>\n",
       "    <tr>\n",
       "      <th>3</th>\n",
       "      <td>1,001.00</td>\n",
       "      <td>4.00</td>\n",
       "      <td>182.00</td>\n",
       "      <td>1,638.00</td>\n",
       "      <td>393.12</td>\n",
       "    </tr>\n",
       "    <tr>\n",
       "      <th>4</th>\n",
       "      <td>1,001.00</td>\n",
       "      <td>5.00</td>\n",
       "      <td>70.00</td>\n",
       "      <td>1,050.00</td>\n",
       "      <td>294.00</td>\n",
       "    </tr>\n",
       "  </tbody>\n",
       "</table>\n",
       "</div>"
      ],
      "text/plain": [
       "    CustID  Week  Calls  Minutes    Amt\n",
       "0 1,001.00  1.00  56.00   392.00  78.40\n",
       "1 1,001.00  2.00  49.00   735.00 154.35\n",
       "2 1,001.00  3.00 140.00   420.00 126.00\n",
       "3 1,001.00  4.00 182.00 1,638.00 393.12\n",
       "4 1,001.00  5.00  70.00 1,050.00 294.00"
      ]
     },
     "execution_count": 10,
     "metadata": {},
     "output_type": "execute_result"
    }
   ],
   "source": [
    "print(q1.shape)\n",
    "q1.head()\n"
   ]
  },
  {
   "cell_type": "code",
   "execution_count": 12,
   "metadata": {},
   "outputs": [
    {
     "data": {
      "text/plain": [
       "Index(['CustID', 'Week', 'Calls', 'Minutes', 'Amt'], dtype='object')"
      ]
     },
     "execution_count": 12,
     "metadata": {},
     "output_type": "execute_result"
    }
   ],
   "source": [
    "q1.columns"
   ]
  },
  {
   "cell_type": "markdown",
   "metadata": {},
   "source": [
    "### Q1 - A telecom operator company wishes have some of their most active/spend worthy users rewarded to reduce churn, statistically find these users and graphically plot them based on variables in-order to select the best chunk of users?"
   ]
  },
  {
   "cell_type": "code",
   "execution_count": 13,
   "metadata": {},
   "outputs": [],
   "source": [
    "#I can only imageine, best chunk of users are the one who spend the most, then the next feature important might be minutes spend (as there can be some \n",
    "# advertisement income based on the minutes spent by customer using the telecom services)\n",
    "\n",
    "impt_cust = q1.groupby(['CustID'])['Amt', 'Minutes'].sum()\n",
    "impt_cust.sort_values(by='Amt', ascending = False, inplace=True)\n",
    "impt_cust.reset_index(inplace=True)"
   ]
  },
  {
   "cell_type": "code",
   "execution_count": 14,
   "metadata": {},
   "outputs": [
    {
     "data": {
      "text/html": [
       "<div>\n",
       "<style scoped>\n",
       "    .dataframe tbody tr th:only-of-type {\n",
       "        vertical-align: middle;\n",
       "    }\n",
       "\n",
       "    .dataframe tbody tr th {\n",
       "        vertical-align: top;\n",
       "    }\n",
       "\n",
       "    .dataframe thead th {\n",
       "        text-align: right;\n",
       "    }\n",
       "</style>\n",
       "<table border=\"1\" class=\"dataframe\">\n",
       "  <thead>\n",
       "    <tr style=\"text-align: right;\">\n",
       "      <th></th>\n",
       "      <th>CustID</th>\n",
       "      <th>Amt</th>\n",
       "      <th>Minutes</th>\n",
       "    </tr>\n",
       "  </thead>\n",
       "  <tbody>\n",
       "    <tr>\n",
       "      <th>0</th>\n",
       "      <td>1,121.00</td>\n",
       "      <td>4,167.73</td>\n",
       "      <td>23,079.00</td>\n",
       "    </tr>\n",
       "    <tr>\n",
       "      <th>1</th>\n",
       "      <td>1,076.00</td>\n",
       "      <td>4,097.66</td>\n",
       "      <td>20,461.00</td>\n",
       "    </tr>\n",
       "    <tr>\n",
       "      <th>2</th>\n",
       "      <td>1,778.00</td>\n",
       "      <td>3,805.83</td>\n",
       "      <td>20,594.00</td>\n",
       "    </tr>\n",
       "    <tr>\n",
       "      <th>3</th>\n",
       "      <td>1,668.00</td>\n",
       "      <td>3,719.73</td>\n",
       "      <td>19,845.00</td>\n",
       "    </tr>\n",
       "    <tr>\n",
       "      <th>4</th>\n",
       "      <td>1,114.00</td>\n",
       "      <td>3,705.66</td>\n",
       "      <td>19,292.00</td>\n",
       "    </tr>\n",
       "  </tbody>\n",
       "</table>\n",
       "</div>"
      ],
      "text/plain": [
       "    CustID      Amt   Minutes\n",
       "0 1,121.00 4,167.73 23,079.00\n",
       "1 1,076.00 4,097.66 20,461.00\n",
       "2 1,778.00 3,805.83 20,594.00\n",
       "3 1,668.00 3,719.73 19,845.00\n",
       "4 1,114.00 3,705.66 19,292.00"
      ]
     },
     "execution_count": 14,
     "metadata": {},
     "output_type": "execute_result"
    }
   ],
   "source": [
    "impt_cust.head(5) #As we can see, higher minutes are somewhat related to higer Amt"
   ]
  },
  {
   "cell_type": "code",
   "execution_count": 413,
   "metadata": {},
   "outputs": [
    {
     "data": {
      "text/plain": [
       "Text(0, 0.5, 'Minutes')"
      ]
     },
     "execution_count": 413,
     "metadata": {},
     "output_type": "execute_result"
    },
    {
     "data": {
      "image/png": "[encoded data removed]",
      "text/plain": [
       "<Figure size 720x360 with 1 Axes>"
      ]
     },
     "metadata": {},
     "output_type": "display_data"
    }
   ],
   "source": [
    "x = impt_cust['Amt'].values\n",
    "y = impt_cust['Minutes'].values\n",
    "\n",
    "plt.figure(figsize=(10, 5))\n",
    "plt.scatter(x, y)\n",
    "plt.axvline(x=3000, color='red') #I'll say 3000 is a pretty neat cutline, but that will depend on the companies plan\n",
    "plt.xlabel('Amount')\n",
    "plt.ylabel('Minutes')"
   ]
  },
  {
   "cell_type": "markdown",
   "metadata": {},
   "source": [
    "#### Q2 - Who are our customers? Profile them elaborately"
   ]
  },
  {
   "cell_type": "code",
   "execution_count": 415,
   "metadata": {},
   "outputs": [
    {
     "data": {
      "text/plain": [
       "'As we can see in the above graph, majority of customer use around 2500rs and 15000, minutes. I\\'m not sure if that answered question. I\\'ll need more context for \\nwhat is meant by \"profile them\"'"
      ]
     },
     "execution_count": 415,
     "metadata": {},
     "output_type": "execute_result"
    }
   ],
   "source": [
    "'''As we can see in the above graph, majority of customer use around 2500rs and 15000, minutes. I'm not sure if that answered question. I'll need more context for \n",
    "what is meant by \"profile them\"'''"
   ]
  },
  {
   "cell_type": "markdown",
   "metadata": {},
   "source": [
    "### Q3 The startup has 4 offers running on a daily basis (valid for a day) Recharge - 20 for 10 Mins Recharge - 30 for 40 Mins Recharge - 40 for 80 Mins Recharge - 50 for 100 Mins\n",
    "\n",
    "Their second recharge pack doesn't seem to perform as required, the others fetching ~100 recharges per day in a week on what day would it be advisable for the company to sell these recharges and boost calls made by users"
   ]
  },
  {
   "cell_type": "code",
   "execution_count": 417,
   "metadata": {},
   "outputs": [],
   "source": [
    "#It's impossible to conjecture day wise information, given the fact that no day-wise sold-details is provided. "
   ]
  },
  {
   "cell_type": "markdown",
   "metadata": {},
   "source": [
    "### Q4 - An investor wishes to see week,month and yearly metrics, derive maxmimum insights from the data"
   ]
  },
  {
   "cell_type": "code",
   "execution_count": 16,
   "metadata": {},
   "outputs": [
    {
     "data": {
      "text/html": [
       "<div>\n",
       "<style scoped>\n",
       "    .dataframe tbody tr th:only-of-type {\n",
       "        vertical-align: middle;\n",
       "    }\n",
       "\n",
       "    .dataframe tbody tr th {\n",
       "        vertical-align: top;\n",
       "    }\n",
       "\n",
       "    .dataframe thead th {\n",
       "        text-align: right;\n",
       "    }\n",
       "</style>\n",
       "<table border=\"1\" class=\"dataframe\">\n",
       "  <thead>\n",
       "    <tr style=\"text-align: right;\">\n",
       "      <th></th>\n",
       "      <th>CustID</th>\n",
       "      <th>Week</th>\n",
       "      <th>Calls</th>\n",
       "      <th>Minutes</th>\n",
       "      <th>Amt</th>\n",
       "    </tr>\n",
       "  </thead>\n",
       "  <tbody>\n",
       "    <tr>\n",
       "      <th>0</th>\n",
       "      <td>1,001.00</td>\n",
       "      <td>1.00</td>\n",
       "      <td>56.00</td>\n",
       "      <td>392.00</td>\n",
       "      <td>78.40</td>\n",
       "    </tr>\n",
       "    <tr>\n",
       "      <th>1</th>\n",
       "      <td>1,001.00</td>\n",
       "      <td>2.00</td>\n",
       "      <td>49.00</td>\n",
       "      <td>735.00</td>\n",
       "      <td>154.35</td>\n",
       "    </tr>\n",
       "    <tr>\n",
       "      <th>2</th>\n",
       "      <td>1,001.00</td>\n",
       "      <td>3.00</td>\n",
       "      <td>140.00</td>\n",
       "      <td>420.00</td>\n",
       "      <td>126.00</td>\n",
       "    </tr>\n",
       "    <tr>\n",
       "      <th>3</th>\n",
       "      <td>1,001.00</td>\n",
       "      <td>4.00</td>\n",
       "      <td>182.00</td>\n",
       "      <td>1,638.00</td>\n",
       "      <td>393.12</td>\n",
       "    </tr>\n",
       "    <tr>\n",
       "      <th>4</th>\n",
       "      <td>1,001.00</td>\n",
       "      <td>5.00</td>\n",
       "      <td>70.00</td>\n",
       "      <td>1,050.00</td>\n",
       "      <td>294.00</td>\n",
       "    </tr>\n",
       "  </tbody>\n",
       "</table>\n",
       "</div>"
      ],
      "text/plain": [
       "    CustID  Week  Calls  Minutes    Amt\n",
       "0 1,001.00  1.00  56.00   392.00  78.40\n",
       "1 1,001.00  2.00  49.00   735.00 154.35\n",
       "2 1,001.00  3.00 140.00   420.00 126.00\n",
       "3 1,001.00  4.00 182.00 1,638.00 393.12\n",
       "4 1,001.00  5.00  70.00 1,050.00 294.00"
      ]
     },
     "execution_count": 16,
     "metadata": {},
     "output_type": "execute_result"
    }
   ],
   "source": [
    "q1.head()"
   ]
  },
  {
   "cell_type": "markdown",
   "metadata": {},
   "source": [
    "##### Yearly"
   ]
  },
  {
   "cell_type": "code",
   "execution_count": 17,
   "metadata": {},
   "outputs": [
    {
     "data": {
      "text/html": [
       "<div>\n",
       "<style scoped>\n",
       "    .dataframe tbody tr th:only-of-type {\n",
       "        vertical-align: middle;\n",
       "    }\n",
       "\n",
       "    .dataframe tbody tr th {\n",
       "        vertical-align: top;\n",
       "    }\n",
       "\n",
       "    .dataframe thead th {\n",
       "        text-align: right;\n",
       "    }\n",
       "</style>\n",
       "<table border=\"1\" class=\"dataframe\">\n",
       "  <thead>\n",
       "    <tr style=\"text-align: right;\">\n",
       "      <th></th>\n",
       "      <th>Amt</th>\n",
       "      <th>Minutes</th>\n",
       "    </tr>\n",
       "    <tr>\n",
       "      <th>Week</th>\n",
       "      <th></th>\n",
       "      <th></th>\n",
       "    </tr>\n",
       "  </thead>\n",
       "  <tbody>\n",
       "    <tr>\n",
       "      <th>1.00</th>\n",
       "      <td>10,621.10</td>\n",
       "      <td>61,796.00</td>\n",
       "    </tr>\n",
       "    <tr>\n",
       "      <th>2.00</th>\n",
       "      <td>36,206.94</td>\n",
       "      <td>196,546.00</td>\n",
       "    </tr>\n",
       "    <tr>\n",
       "      <th>3.00</th>\n",
       "      <td>63,339.92</td>\n",
       "      <td>360,318.00</td>\n",
       "    </tr>\n",
       "    <tr>\n",
       "      <th>4.00</th>\n",
       "      <td>98,058.80</td>\n",
       "      <td>555,884.00</td>\n",
       "    </tr>\n",
       "    <tr>\n",
       "      <th>5.00</th>\n",
       "      <td>96,137.86</td>\n",
       "      <td>549,199.00</td>\n",
       "    </tr>\n",
       "    <tr>\n",
       "      <th>6.00</th>\n",
       "      <td>98,659.61</td>\n",
       "      <td>558,964.00</td>\n",
       "    </tr>\n",
       "    <tr>\n",
       "      <th>7.00</th>\n",
       "      <td>101,236.45</td>\n",
       "      <td>582,463.00</td>\n",
       "    </tr>\n",
       "    <tr>\n",
       "      <th>8.00</th>\n",
       "      <td>96,850.74</td>\n",
       "      <td>551,096.00</td>\n",
       "    </tr>\n",
       "    <tr>\n",
       "      <th>9.00</th>\n",
       "      <td>97,614.30</td>\n",
       "      <td>565,670.00</td>\n",
       "    </tr>\n",
       "    <tr>\n",
       "      <th>10.00</th>\n",
       "      <td>98,613.76</td>\n",
       "      <td>554,078.00</td>\n",
       "    </tr>\n",
       "    <tr>\n",
       "      <th>11.00</th>\n",
       "      <td>108,176.67</td>\n",
       "      <td>612,528.00</td>\n",
       "    </tr>\n",
       "    <tr>\n",
       "      <th>12.00</th>\n",
       "      <td>94,512.81</td>\n",
       "      <td>547,666.00</td>\n",
       "    </tr>\n",
       "    <tr>\n",
       "      <th>13.00</th>\n",
       "      <td>109,863.95</td>\n",
       "      <td>615,608.00</td>\n",
       "    </tr>\n",
       "    <tr>\n",
       "      <th>14.00</th>\n",
       "      <td>97,121.85</td>\n",
       "      <td>535,738.00</td>\n",
       "    </tr>\n",
       "    <tr>\n",
       "      <th>15.00</th>\n",
       "      <td>108,372.95</td>\n",
       "      <td>617,218.00</td>\n",
       "    </tr>\n",
       "    <tr>\n",
       "      <th>16.00</th>\n",
       "      <td>90,633.20</td>\n",
       "      <td>501,578.00</td>\n",
       "    </tr>\n",
       "    <tr>\n",
       "      <th>17.00</th>\n",
       "      <td>103,495.84</td>\n",
       "      <td>598,171.00</td>\n",
       "    </tr>\n",
       "    <tr>\n",
       "      <th>18.00</th>\n",
       "      <td>96,055.68</td>\n",
       "      <td>562,478.00</td>\n",
       "    </tr>\n",
       "    <tr>\n",
       "      <th>19.00</th>\n",
       "      <td>97,718.60</td>\n",
       "      <td>550,858.00</td>\n",
       "    </tr>\n",
       "    <tr>\n",
       "      <th>20.00</th>\n",
       "      <td>110,482.33</td>\n",
       "      <td>615,447.00</td>\n",
       "    </tr>\n",
       "    <tr>\n",
       "      <th>21.00</th>\n",
       "      <td>107,233.28</td>\n",
       "      <td>610,694.00</td>\n",
       "    </tr>\n",
       "    <tr>\n",
       "      <th>22.00</th>\n",
       "      <td>100,379.86</td>\n",
       "      <td>577,766.00</td>\n",
       "    </tr>\n",
       "    <tr>\n",
       "      <th>23.00</th>\n",
       "      <td>111,502.86</td>\n",
       "      <td>632,576.00</td>\n",
       "    </tr>\n",
       "    <tr>\n",
       "      <th>24.00</th>\n",
       "      <td>98,255.99</td>\n",
       "      <td>568,204.00</td>\n",
       "    </tr>\n",
       "  </tbody>\n",
       "</table>\n",
       "</div>"
      ],
      "text/plain": [
       "             Amt    Minutes\n",
       "Week                       \n",
       "1.00   10,621.10  61,796.00\n",
       "2.00   36,206.94 196,546.00\n",
       "3.00   63,339.92 360,318.00\n",
       "4.00   98,058.80 555,884.00\n",
       "5.00   96,137.86 549,199.00\n",
       "6.00   98,659.61 558,964.00\n",
       "7.00  101,236.45 582,463.00\n",
       "8.00   96,850.74 551,096.00\n",
       "9.00   97,614.30 565,670.00\n",
       "10.00  98,613.76 554,078.00\n",
       "11.00 108,176.67 612,528.00\n",
       "12.00  94,512.81 547,666.00\n",
       "13.00 109,863.95 615,608.00\n",
       "14.00  97,121.85 535,738.00\n",
       "15.00 108,372.95 617,218.00\n",
       "16.00  90,633.20 501,578.00\n",
       "17.00 103,495.84 598,171.00\n",
       "18.00  96,055.68 562,478.00\n",
       "19.00  97,718.60 550,858.00\n",
       "20.00 110,482.33 615,447.00\n",
       "21.00 107,233.28 610,694.00\n",
       "22.00 100,379.86 577,766.00\n",
       "23.00 111,502.86 632,576.00\n",
       "24.00  98,255.99 568,204.00"
      ]
     },
     "execution_count": 17,
     "metadata": {},
     "output_type": "execute_result"
    }
   ],
   "source": [
    "''' It is difficult to generate yearly metrics, given only 24 weeks of data, still below are weekly, monthly and yearly metrics'''\n",
    "q1.groupby(['Week'])['Amt', 'Minutes'].sum()"
   ]
  },
  {
   "cell_type": "code",
   "execution_count": 19,
   "metadata": {},
   "outputs": [],
   "source": [
    "#Month would be roughly 4 weeks of data\n",
    "\n",
    "data = q1.groupby(['Week'])['Amt', 'Minutes'].sum().reset_index().values"
   ]
  },
  {
   "cell_type": "code",
   "execution_count": 20,
   "metadata": {},
   "outputs": [],
   "source": [
    "amt=[]\n",
    "wk = []\n",
    "curr_sum = 0\n",
    "curr_wk = 0\n",
    "for i in range(24):\n",
    "    curr_sum += data[i][1]\n",
    "    curr_wk += data[i][2]\n",
    "    if data[i][0]%4 == 0:\n",
    "        \n",
    "        amt.append(curr_sum) #Appending sum of amount and week, every fourth week. Sum of all the amount in that week\n",
    "        wk.append(curr_wk)\n",
    "        curr_sum = 0\n",
    "        curr_wk = 0\n",
    "        \n",
    "#Amt is is net amount spent in a month, wk is the net minutes spent in a month"
   ]
  },
  {
   "cell_type": "code",
   "execution_count": 21,
   "metadata": {},
   "outputs": [
    {
     "data": {
      "text/html": [
       "<div>\n",
       "<style scoped>\n",
       "    .dataframe tbody tr th:only-of-type {\n",
       "        vertical-align: middle;\n",
       "    }\n",
       "\n",
       "    .dataframe tbody tr th {\n",
       "        vertical-align: top;\n",
       "    }\n",
       "\n",
       "    .dataframe thead th {\n",
       "        text-align: right;\n",
       "    }\n",
       "</style>\n",
       "<table border=\"1\" class=\"dataframe\">\n",
       "  <thead>\n",
       "    <tr style=\"text-align: right;\">\n",
       "      <th></th>\n",
       "      <th>0</th>\n",
       "    </tr>\n",
       "  </thead>\n",
       "  <tbody>\n",
       "    <tr>\n",
       "      <th>count</th>\n",
       "      <td>6.00</td>\n",
       "    </tr>\n",
       "    <tr>\n",
       "      <th>mean</th>\n",
       "      <td>371,857.56</td>\n",
       "    </tr>\n",
       "    <tr>\n",
       "      <th>std</th>\n",
       "      <td>80,591.05</td>\n",
       "    </tr>\n",
       "    <tr>\n",
       "      <th>min</th>\n",
       "      <td>208,226.76</td>\n",
       "    </tr>\n",
       "    <tr>\n",
       "      <th>25%</th>\n",
       "      <td>394,392.88</td>\n",
       "    </tr>\n",
       "    <tr>\n",
       "      <th>50%</th>\n",
       "      <td>402,454.75</td>\n",
       "    </tr>\n",
       "    <tr>\n",
       "      <th>75%</th>\n",
       "      <td>407,312.33</td>\n",
       "    </tr>\n",
       "    <tr>\n",
       "      <th>max</th>\n",
       "      <td>417,371.99</td>\n",
       "    </tr>\n",
       "  </tbody>\n",
       "</table>\n",
       "</div>"
      ],
      "text/plain": [
       "               0\n",
       "count       6.00\n",
       "mean  371,857.56\n",
       "std    80,591.05\n",
       "min   208,226.76\n",
       "25%   394,392.88\n",
       "50%   402,454.75\n",
       "75%   407,312.33\n",
       "max   417,371.99"
      ]
     },
     "execution_count": 21,
     "metadata": {},
     "output_type": "execute_result"
    }
   ],
   "source": [
    "pd.DataFrame(amt).describe()"
   ]
  },
  {
   "cell_type": "code",
   "execution_count": 22,
   "metadata": {},
   "outputs": [
    {
     "data": {
      "text/html": [
       "<div>\n",
       "<style scoped>\n",
       "    .dataframe tbody tr th:only-of-type {\n",
       "        vertical-align: middle;\n",
       "    }\n",
       "\n",
       "    .dataframe tbody tr th {\n",
       "        vertical-align: top;\n",
       "    }\n",
       "\n",
       "    .dataframe thead th {\n",
       "        text-align: right;\n",
       "    }\n",
       "</style>\n",
       "<table border=\"1\" class=\"dataframe\">\n",
       "  <thead>\n",
       "    <tr style=\"text-align: right;\">\n",
       "      <th></th>\n",
       "      <th>0</th>\n",
       "    </tr>\n",
       "  </thead>\n",
       "  <tbody>\n",
       "    <tr>\n",
       "      <th>count</th>\n",
       "      <td>6.00</td>\n",
       "    </tr>\n",
       "    <tr>\n",
       "      <th>mean</th>\n",
       "      <td>2,113,757.33</td>\n",
       "    </tr>\n",
       "    <tr>\n",
       "      <th>std</th>\n",
       "      <td>463,014.83</td>\n",
       "    </tr>\n",
       "    <tr>\n",
       "      <th>min</th>\n",
       "      <td>1,174,544.00</td>\n",
       "    </tr>\n",
       "    <tr>\n",
       "      <th>25%</th>\n",
       "      <td>2,248,827.00</td>\n",
       "    </tr>\n",
       "    <tr>\n",
       "      <th>50%</th>\n",
       "      <td>2,275,042.00</td>\n",
       "    </tr>\n",
       "    <tr>\n",
       "      <th>75%</th>\n",
       "      <td>2,315,201.00</td>\n",
       "    </tr>\n",
       "    <tr>\n",
       "      <th>max</th>\n",
       "      <td>2,389,240.00</td>\n",
       "    </tr>\n",
       "  </tbody>\n",
       "</table>\n",
       "</div>"
      ],
      "text/plain": [
       "                 0\n",
       "count         6.00\n",
       "mean  2,113,757.33\n",
       "std     463,014.83\n",
       "min   1,174,544.00\n",
       "25%   2,248,827.00\n",
       "50%   2,275,042.00\n",
       "75%   2,315,201.00\n",
       "max   2,389,240.00"
      ]
     },
     "execution_count": 22,
     "metadata": {},
     "output_type": "execute_result"
    }
   ],
   "source": [
    "pd.DataFrame(wk).describe()"
   ]
  },
  {
   "cell_type": "code",
   "execution_count": 418,
   "metadata": {},
   "outputs": [
    {
     "name": "stdout",
     "output_type": "stream",
     "text": [
      "[208226.76, 392884.66000000003, 398917.54000000027, 405991.9500000002, 407752.45000000007, 417371.98999999993]\n",
      "[1174544.0, 2241722.0, 2279942.0, 2270142.0, 2326954.0, 2389240.0]\n"
     ]
    }
   ],
   "source": [
    "print(amt)\n",
    "print(wk)"
   ]
  },
  {
   "cell_type": "code",
   "execution_count": 423,
   "metadata": {},
   "outputs": [
    {
     "data": {
      "text/plain": [
       "array([0.17728306, 0.17526021, 0.17496828, 0.17883989, 0.17523013,\n",
       "       0.17468818])"
      ]
     },
     "execution_count": 423,
     "metadata": {},
     "output_type": "execute_result"
    }
   ],
   "source": [
    "np.true_divide(np.array(amt), np.array(wk))#money spent per minute, is more or less constant"
   ]
  },
  {
   "cell_type": "code",
   "execution_count": 23,
   "metadata": {},
   "outputs": [
    {
     "data": {
      "text/plain": [
       "<matplotlib.collections.PathCollection at 0x7f9d236b1ba8>"
      ]
     },
     "execution_count": 23,
     "metadata": {},
     "output_type": "execute_result"
    },
    {
     "data": {
      "image/png": "[encoded data removed]",
      "text/plain": [
       "<Figure size 432x288 with 1 Axes>"
      ]
     },
     "metadata": {
      "needs_background": "light"
     },
     "output_type": "display_data"
    }
   ],
   "source": [
    "plt.scatter(amt, wk)"
   ]
  },
  {
   "cell_type": "markdown",
   "metadata": {},
   "source": [
    "##### For some reason, initial week was very less active, in comparison to other weeks. Quite possibly, in later months possibly more and more people joined and so we can see the trend keeps increasing into future. "
   ]
  },
  {
   "cell_type": "markdown",
   "metadata": {},
   "source": [
    "##### Weekly"
   ]
  },
  {
   "cell_type": "code",
   "execution_count": 427,
   "metadata": {},
   "outputs": [
    {
     "data": {
      "text/plain": [
       "<matplotlib.collections.PathCollection at 0x7f9d3933d940>"
      ]
     },
     "execution_count": 427,
     "metadata": {},
     "output_type": "execute_result"
    },
    {
     "data": {
      "image/png": "[encoded data removed]",
      "text/plain": [
       "<Figure size 576x396 with 1 Axes>"
      ]
     },
     "metadata": {},
     "output_type": "display_data"
    }
   ],
   "source": [
    "plt.scatter(q1.groupby(['Week'])['Amt', 'Minutes'].sum()['Amt'].values, q1.groupby(['Week'])['Amt', 'Minutes'].sum()['Minutes'].values)"
   ]
  },
  {
   "cell_type": "markdown",
   "metadata": {},
   "source": [
    "##### We already have statistical information about week in above charts, but we can see that again, as we deduced in yearly analysis. As time goes by more and more people join the service and consumption of the services increase"
   ]
  },
  {
   "cell_type": "markdown",
   "metadata": {},
   "source": [
    "### Brand Preference - Q2\n",
    "Dataset -> `Brand_Preference.csv`\n",
    "\n",
    "Q1. Brands (BP -> Brand Perference)\n",
    "\n",
    "    A -> Elecktra (BP -> 3,5)\n",
    "    B -> Velzoy (BP -> 1,2)\n",
    "    C -> DemiCube (BP -> 3,2)\n",
    "    D -> Harpy (BP -> 3,4)\n",
    "    E -> 18Again (BP -> 4,5)\n",
    "\n",
    "Which brand would be the best to on-board considering our target market is already established\n",
    "with ages below 25 & above 45\n",
    "\n",
    "Q2. A fellow co-worker would like to plot respondents brand preference based on three categorical levels, where the levels exist as columns, provide the dataset to them in a file format\n",
    "\n",
    "Q3. What would be the most preffered brand based solely on brand preference\n",
    "\n",
    "Q4. Regular Expressions\n",
    "\n",
    "\"\"\"`Branding\n",
    "One of the most critical and basic long-term objectives of marketing is to brand your company or product. This is the use of promotional techniques to create a particular reputation that resonates with target customers. Lexus has developed itself as a luxury and status car brand for people with upper-middle to upper class incomes. Target is a value-oriented retailer of fashion, apparel and home goods. Wal-Mart has built its brand on low prices. Regardless of the image, consumers prefer to purchase products and services that offer a clear value proposition as opposed to ones with uncertainty or mixed messages.`\n",
    "\n",
    "`Research\n",
    "Market research is key to increasing brand preferences, as the more you understand about what motivates your customers the easier it is to appeal to them. Getting to know the core beliefs that your products carry into the marketplace is especially useful. For instance, customers who buy high-end fashions generally expect to get a high level of service and to pay a premium price. Understanding this helps you to better tailor your offering to present good benefits and earn reasonable profit.`\n",
    "\n",
    "`Emphasize Benefits\n",
    "Turning a habitual or routine buyer into an emotionally attached, loyal customer with a strong brand preference is largely based on the customer's sense of value. Understanding your target market's preferred product or service features and benefits helps you optimize your offering and promote a product concept that meshes with the market's interest. As a premium coffee shop, for instance, your customers may prefer benefits such as taste quality, premium coffee beans, and fast customer service.`\n",
    "\n",
    "`Engagement\n",
    "\"Engagement\" has become a hot buzz word in early 21st century brand development. This is the use of more direct, interactive forms of communication with customers. Personal selling, email and and telemarketing are common, traditional forms of interpersonal communication. Social media, such as Twitter and Facebook, have significantly broadened the concept and importance of brand engagement. Customers move quickly and exchange experiences with others in these real-time social venues. Having a presence in the social media realm helps you directly engage customers and address negative discussions that could impact your brand's word-of-mouth.`\"\"\"\n",
    " \n",
    "     1 - Remove all special characters\n",
    "     \n",
    "     2 - Find all words with \"ing\"\n",
    "     \n",
    "     3 - Which paragraph has the most vowels\n",
    "     \n",
    "     4 - Find the largest word & most repeated word\n",
    "     \n",
    "     5 - Find all hyphenated words\n",
    "\n",
    "**Output for 2,5 must been in a list/array format "
   ]
  },
  {
   "cell_type": "code",
   "execution_count": 24,
   "metadata": {},
   "outputs": [],
   "source": [
    "band = pd.read_csv('Datasets/Brand Preference.csv')"
   ]
  },
  {
   "cell_type": "code",
   "execution_count": 25,
   "metadata": {},
   "outputs": [
    {
     "data": {
      "text/plain": [
       "Index(['respondentid', 'age', 'preflevel'], dtype='object')"
      ]
     },
     "execution_count": 25,
     "metadata": {},
     "output_type": "execute_result"
    }
   ],
   "source": [
    "band.columns"
   ]
  },
  {
   "cell_type": "code",
   "execution_count": 27,
   "metadata": {},
   "outputs": [
    {
     "data": {
      "text/html": [
       "<div>\n",
       "<style scoped>\n",
       "    .dataframe tbody tr th:only-of-type {\n",
       "        vertical-align: middle;\n",
       "    }\n",
       "\n",
       "    .dataframe tbody tr th {\n",
       "        vertical-align: top;\n",
       "    }\n",
       "\n",
       "    .dataframe thead th {\n",
       "        text-align: right;\n",
       "    }\n",
       "</style>\n",
       "<table border=\"1\" class=\"dataframe\">\n",
       "  <thead>\n",
       "    <tr style=\"text-align: right;\">\n",
       "      <th></th>\n",
       "      <th>respondentid</th>\n",
       "      <th>age</th>\n",
       "      <th>preflevel</th>\n",
       "    </tr>\n",
       "  </thead>\n",
       "  <tbody>\n",
       "    <tr>\n",
       "      <th>0</th>\n",
       "      <td>1</td>\n",
       "      <td>&lt;25</td>\n",
       "      <td>3</td>\n",
       "    </tr>\n",
       "    <tr>\n",
       "      <th>1</th>\n",
       "      <td>2</td>\n",
       "      <td>&lt;25</td>\n",
       "      <td>2</td>\n",
       "    </tr>\n",
       "    <tr>\n",
       "      <th>2</th>\n",
       "      <td>3</td>\n",
       "      <td>&lt;25</td>\n",
       "      <td>4</td>\n",
       "    </tr>\n",
       "    <tr>\n",
       "      <th>3</th>\n",
       "      <td>4</td>\n",
       "      <td>&lt;25</td>\n",
       "      <td>3</td>\n",
       "    </tr>\n",
       "    <tr>\n",
       "      <th>4</th>\n",
       "      <td>5</td>\n",
       "      <td>&lt;25</td>\n",
       "      <td>2</td>\n",
       "    </tr>\n",
       "  </tbody>\n",
       "</table>\n",
       "</div>"
      ],
      "text/plain": [
       "   respondentid  age  preflevel\n",
       "0             1  <25          3\n",
       "1             2  <25          2\n",
       "2             3  <25          4\n",
       "3             4  <25          3\n",
       "4             5  <25          2"
      ]
     },
     "execution_count": 27,
     "metadata": {},
     "output_type": "execute_result"
    }
   ],
   "source": [
    "band.head()"
   ]
  },
  {
   "cell_type": "code",
   "execution_count": 57,
   "metadata": {},
   "outputs": [],
   "source": [
    "# Which brand would be the best to on-board considering our target market is already established with ages below 25 & above 45\n",
    "\n",
    "# band.groupby(['age', 'preflevel']).agg({'preflevel': {'Count': 'count','SizeSum': 'sum'}})\n",
    "into = band.groupby(['age', 'preflevel']).agg({'preflevel': {'Count': 'count'}}).reset_index()"
   ]
  },
  {
   "cell_type": "code",
   "execution_count": 58,
   "metadata": {},
   "outputs": [
    {
     "data": {
      "text/html": [
       "<div>\n",
       "<style scoped>\n",
       "    .dataframe tbody tr th:only-of-type {\n",
       "        vertical-align: middle;\n",
       "    }\n",
       "\n",
       "    .dataframe tbody tr th {\n",
       "        vertical-align: top;\n",
       "    }\n",
       "\n",
       "    .dataframe thead tr th {\n",
       "        text-align: left;\n",
       "    }\n",
       "</style>\n",
       "<table border=\"1\" class=\"dataframe\">\n",
       "  <thead>\n",
       "    <tr>\n",
       "      <th></th>\n",
       "      <th>age</th>\n",
       "      <th colspan=\"2\" halign=\"left\">preflevel</th>\n",
       "    </tr>\n",
       "    <tr>\n",
       "      <th></th>\n",
       "      <th></th>\n",
       "      <th></th>\n",
       "      <th>Count</th>\n",
       "    </tr>\n",
       "  </thead>\n",
       "  <tbody>\n",
       "    <tr>\n",
       "      <th>0</th>\n",
       "      <td>25-40</td>\n",
       "      <td>3</td>\n",
       "      <td>10</td>\n",
       "    </tr>\n",
       "    <tr>\n",
       "      <th>1</th>\n",
       "      <td>25-40</td>\n",
       "      <td>4</td>\n",
       "      <td>21</td>\n",
       "    </tr>\n",
       "    <tr>\n",
       "      <th>2</th>\n",
       "      <td>25-40</td>\n",
       "      <td>5</td>\n",
       "      <td>6</td>\n",
       "    </tr>\n",
       "    <tr>\n",
       "      <th>3</th>\n",
       "      <td>40-55</td>\n",
       "      <td>1</td>\n",
       "      <td>1</td>\n",
       "    </tr>\n",
       "    <tr>\n",
       "      <th>4</th>\n",
       "      <td>40-55</td>\n",
       "      <td>2</td>\n",
       "      <td>14</td>\n",
       "    </tr>\n",
       "    <tr>\n",
       "      <th>5</th>\n",
       "      <td>40-55</td>\n",
       "      <td>3</td>\n",
       "      <td>14</td>\n",
       "    </tr>\n",
       "    <tr>\n",
       "      <th>6</th>\n",
       "      <td>40-55</td>\n",
       "      <td>4</td>\n",
       "      <td>2</td>\n",
       "    </tr>\n",
       "    <tr>\n",
       "      <th>7</th>\n",
       "      <td>40-55</td>\n",
       "      <td>5</td>\n",
       "      <td>2</td>\n",
       "    </tr>\n",
       "    <tr>\n",
       "      <th>8</th>\n",
       "      <td>&lt;25</td>\n",
       "      <td>1</td>\n",
       "      <td>4</td>\n",
       "    </tr>\n",
       "    <tr>\n",
       "      <th>9</th>\n",
       "      <td>&lt;25</td>\n",
       "      <td>2</td>\n",
       "      <td>11</td>\n",
       "    </tr>\n",
       "    <tr>\n",
       "      <th>10</th>\n",
       "      <td>&lt;25</td>\n",
       "      <td>3</td>\n",
       "      <td>14</td>\n",
       "    </tr>\n",
       "    <tr>\n",
       "      <th>11</th>\n",
       "      <td>&lt;25</td>\n",
       "      <td>4</td>\n",
       "      <td>7</td>\n",
       "    </tr>\n",
       "    <tr>\n",
       "      <th>12</th>\n",
       "      <td>&lt;25</td>\n",
       "      <td>5</td>\n",
       "      <td>1</td>\n",
       "    </tr>\n",
       "  </tbody>\n",
       "</table>\n",
       "</div>"
      ],
      "text/plain": [
       "      age preflevel      \n",
       "                    Count\n",
       "0   25-40         3    10\n",
       "1   25-40         4    21\n",
       "2   25-40         5     6\n",
       "3   40-55         1     1\n",
       "4   40-55         2    14\n",
       "5   40-55         3    14\n",
       "6   40-55         4     2\n",
       "7   40-55         5     2\n",
       "8     <25         1     4\n",
       "9     <25         2    11\n",
       "10    <25         3    14\n",
       "11    <25         4     7\n",
       "12    <25         5     1"
      ]
     },
     "execution_count": 58,
     "metadata": {},
     "output_type": "execute_result"
    }
   ],
   "source": [
    "into"
   ]
  },
  {
   "cell_type": "code",
   "execution_count": 76,
   "metadata": {},
   "outputs": [],
   "source": [
    "fourty_five = into[into['age']=='40-55']['preflevel'].values\n",
    "twenty_five = into[into['age']=='<25']['preflevel'].values"
   ]
  },
  {
   "cell_type": "code",
   "execution_count": 77,
   "metadata": {},
   "outputs": [
    {
     "data": {
      "text/plain": [
       "3"
      ]
     },
     "execution_count": 77,
     "metadata": {},
     "output_type": "execute_result"
    }
   ],
   "source": [
    "sorted(fourty_five, key = lambda x: x[1])[::-1][0][0] #Sorting fourty_five in order of counts of preferences"
   ]
  },
  {
   "cell_type": "code",
   "execution_count": 78,
   "metadata": {},
   "outputs": [
    {
     "data": {
      "text/plain": [
       "3"
      ]
     },
     "execution_count": 78,
     "metadata": {},
     "output_type": "execute_result"
    }
   ],
   "source": [
    "sorted(twenty_five, key = lambda x: x[1])[::-1][0][0] #Sorting twenty_five in order of counts of preferences"
   ]
  },
  {
   "cell_type": "code",
   "execution_count": 412,
   "metadata": {},
   "outputs": [
    {
     "data": {
      "text/plain": [
       "2"
      ]
     },
     "execution_count": 412,
     "metadata": {},
     "output_type": "execute_result"
    }
   ],
   "source": [
    "sorted(fourty_five, key = lambda x: x[1])[::-1][1][0] #Sorting fourty_five in order of counts of preferences"
   ]
  },
  {
   "cell_type": "code",
   "execution_count": 411,
   "metadata": {},
   "outputs": [
    {
     "data": {
      "text/plain": [
       "2"
      ]
     },
     "execution_count": 411,
     "metadata": {},
     "output_type": "execute_result"
    }
   ],
   "source": [
    "sorted(twenty_five, key = lambda x: x[1])[::-1][1][0] #Sorting twenty_five in order of counts of preferences"
   ]
  },
  {
   "cell_type": "markdown",
   "metadata": {},
   "source": [
    "#### So it's demicube"
   ]
  },
  {
   "cell_type": "markdown",
   "metadata": {},
   "source": [
    "#### What would be the most preffered brand based solely on brand preference"
   ]
  },
  {
   "cell_type": "code",
   "execution_count": 88,
   "metadata": {},
   "outputs": [
    {
     "data": {
      "text/plain": [
       "preflevel\n",
       "1     5\n",
       "2    25\n",
       "3    38\n",
       "4    30\n",
       "5     9\n",
       "Name: respondentid, dtype: int64"
      ]
     },
     "execution_count": 88,
     "metadata": {},
     "output_type": "execute_result"
    }
   ],
   "source": [
    "band.groupby(['preflevel'])['respondentid'].count()"
   ]
  },
  {
   "cell_type": "markdown",
   "metadata": {},
   "source": [
    "##### As we can see clearly, 3 is the most preferrable brand"
   ]
  },
  {
   "cell_type": "markdown",
   "metadata": {},
   "source": [
    "Q 2.4\n",
    "     \n",
    "     1 - Remove all special characters\n",
    "     \n",
    "     2 - Find all words with \"ing\"\n",
    "     \n",
    "     3 - Which paragraph has the most vowels\n",
    "     \n",
    "     4 - Find the largest word & most repeated word\n",
    "     \n",
    "     5 - Find all hyphenated words##### "
   ]
  },
  {
   "cell_type": "code",
   "execution_count": 94,
   "metadata": {},
   "outputs": [],
   "source": [
    "import string"
   ]
  },
  {
   "cell_type": "code",
   "execution_count": 99,
   "metadata": {},
   "outputs": [
    {
     "data": {
      "text/plain": [
       "'!\"#$%&\\'()*+,-./:;<=>?@[\\\\]^_`{|}~'"
      ]
     },
     "execution_count": 99,
     "metadata": {},
     "output_type": "execute_result"
    }
   ],
   "source": [
    "string.punctuation"
   ]
  },
  {
   "cell_type": "code",
   "execution_count": 225,
   "metadata": {},
   "outputs": [],
   "source": [
    "passage = \"Branding One of the most critical and basic long-term objectives of marketing is to brand your company or product.\\\n",
    " This is the use of promotional techniques to create a particular reputation that resonates with target customers. \\\n",
    "Lexus has developed itself as a luxury and status car brand for people with upper-middle to upper class incomes. \\\n",
    "Target is a value-oriented retailer of fashion, apparel and home goods. Wal-Mart has built its brand on low prices.\\\n",
    "Regardless of the image, consumers prefer to purchase products and services that offer a clear value proposition as\\\n",
    "opposed to ones with uncertainty or mixed messages.`\\\n",
    "\\\n",
    "\\\n",
    "`Research\\\n",
    " Market research is key to increasing brand preferences, as the more you understand about what motivates your customers \\\n",
    "the easier it is to appeal to them. Getting to know the core beliefs that your products carry into the marketplace is \\\n",
    "especially useful. For instance, customers who buy high-end fashions generally expect to get a high level of service and\\\n",
    "to pay a premium price. Understanding this helps you to better tailor your offering to present good benefits and earn reasonable profit.`\\\n",
    "\\\n",
    "\\\n",
    "`Emphasize Benefits.\\\n",
    " Turning a habitual or routine buyer into an emotionally attached, loyal customer with a strong brand preference is largely \\\n",
    "based on the customer's sense of value. Understanding your target market's preferred product or service features and benefits \\\n",
    "helps you optimize your offering and promote a product concept that meshes with the market's interest. As a premium coffee shop,\\\n",
    "for instance, your customers may prefer benefits such as taste quality, premium coffee beans, and fast customer service.`\\\n",
    "\\\n",
    "\\\n",
    "`Engagement\\\n",
    "'Engagement' has become a hot buzz word in early 21st century brand development. This is the use of more direct, interactive \\\n",
    "forms of communication with customers. Personal selling, email and and telemarketing are common, traditional forms of interpersonal \\\n",
    "communication. Social media, such as Twitter and Facebook, have significantly broadened the concept and importance of brand engagement.\\\n",
    "Customers move quickly and exchange experiences with others in these real-time social venues. Having a presence in the social media realm \\\n",
    "helps you directly engage customers and address negative discussions that could impact your brand's word-of-mouth.\""
   ]
  },
  {
   "cell_type": "code",
   "execution_count": 226,
   "metadata": {},
   "outputs": [
    {
     "data": {
      "text/plain": [
       "'Branding One of the most critical and basic long term objectives of marketing is to brand your company or product  This is the use of promotional techniques to create a particular reputation that resonates with target customers  Lexus has developed itself as a luxury and status car brand for people with upper middle to upper class incomes  Target is a value oriented retailer of fashion  apparel and home goods  Wal Mart has built its brand on low prices Regardless of the image  consumers prefer to purchase products and services that offer a clear value proposition asopposed to ones with uncertainty or mixed messages   Research Market research is key to increasing brand preferences  as the more you understand about what motivates your customers the easier it is to appeal to them  Getting to know the core beliefs that your products carry into the marketplace is especially useful  For instance  customers who buy high end fashions generally expect to get a high level of service andto pay a premium price  Understanding this helps you to better tailor your offering to present good benefits and earn reasonable profit   Emphasize Benefits  Turning a habitual or routine buyer into an emotionally attached  loyal customer with a strong brand preference is largely based on the customer s sense of value  Understanding your target market s preferred product or service features and benefits helps you optimize your offering and promote a product concept that meshes with the market s interest  As a premium coffee shop for instance  your customers may prefer benefits such as taste quality  premium coffee beans  and fast customer service   Engagement Engagement  has become a hot buzz word in early 21st century brand development  This is the use of more direct  interactive forms of communication with customers  Personal selling  email and and telemarketing are common  traditional forms of interpersonal communication  Social media  such as Twitter and Facebook  have significantly broadened the concept and importance of brand engagement Customers move quickly and exchange experiences with others in these real time social venues  Having a presence in the social media realm helps you directly engage customers and address negative discussions that could impact your brand s word of mouth '"
      ]
     },
     "execution_count": 226,
     "metadata": {},
     "output_type": "execute_result"
    }
   ],
   "source": [
    "removed = re.sub(\"[!#$%&\\'()*+-/:;<=>?@[\\\\]^_`{|}~']\", \" \", passage) #Removing all special characters\n",
    "removed"
   ]
  },
  {
   "cell_type": "code",
   "execution_count": 227,
   "metadata": {},
   "outputs": [],
   "source": [
    "space = removed.split(' ')"
   ]
  },
  {
   "cell_type": "code",
   "execution_count": 228,
   "metadata": {},
   "outputs": [
    {
     "name": "stdout",
     "output_type": "stream",
     "text": [
      "Branding\n",
      "marketing\n",
      "increasing\n",
      "Getting\n",
      "Understanding\n",
      "offering\n",
      "Turning\n",
      "Understanding\n",
      "offering\n",
      "selling\n",
      "telemarketing\n",
      "Having\n"
     ]
    }
   ],
   "source": [
    "for i in space:\n",
    "\n",
    "    pattern = 'ing'\n",
    "    if re.search(pattern, i) is not None:\n",
    "        print(i)"
   ]
  },
  {
   "cell_type": "code",
   "execution_count": 229,
   "metadata": {},
   "outputs": [],
   "source": [
    "p1 = \"Branding One of the most critical and basic long-term objectives of marketing is to brand your company or product.\\\n",
    "This is the use of promotional techniques to create a particular reputation that resonates with target customers. \\\n",
    "Lexus has developed itself as a luxury and status car brand for people with upper-middle to upper class incomes. \\\n",
    "Target is a value-oriented retailer of fashion, apparel and home goods. Wal-Mart has built its brand on low prices.\\\n",
    "Regardless of the image, consumers prefer to purchase products and services that offer a clear value proposition as\\\n",
    "opposed to ones with uncertainty or mixed messages.\"\n",
    "\n",
    "p2 = \"Research\\\n",
    "Market research is key to increasing brand preferences, as the more you understand about what motivates your customers \\\n",
    "the easier it is to appeal to them. Getting to know the core beliefs that your products carry into the marketplace is \\\n",
    "especially useful. For instance, customers who buy high-end fashions generally expect to get a high level of service and\\\n",
    "to pay a premium price. Understanding this helps you to better tailor your offering to present good benefits and earn reasonable profit.\"\n",
    "\n",
    "p3 = \"Emphasize Benefits\\\n",
    "Turning a habitual or routine buyer into an emotionally attached, loyal customer with a strong brand preference is largely \\\n",
    "based on the customer's sense of value. Understanding your target market's preferred product or service features and benefits \\\n",
    "helps you optimize your offering and promote a product concept that meshes with the market's interest. As a premium coffee shop,\\\n",
    "for instance, your customers may prefer benefits such as taste quality, premium coffee beans, and fast customer service.\"\n",
    "\n",
    "p4 = \"Engagement\\\n",
    "'Engagement' has become a hot buzz word in early 21st century brand development. This is the use of more direct, interactive \\\n",
    "forms of communication with customers. Personal selling, email and and telemarketing are common, traditional forms of interpersonal \\\n",
    "communication. Social media, such as Twitter and Facebook, have significantly broadened the concept and importance of brand engagement.\\\n",
    "Customers move quickly and exchange experiences with others in these real-time social venues. Having a presence in the social media realm \\\n",
    "helps you directly engage customers and address negative discussions that could impact your brand's word-of-mouth.\""
   ]
  },
  {
   "cell_type": "code",
   "execution_count": 230,
   "metadata": {},
   "outputs": [],
   "source": [
    "from collections import Counter"
   ]
  },
  {
   "cell_type": "code",
   "execution_count": 231,
   "metadata": {},
   "outputs": [],
   "source": [
    "c1 = Counter(p1)\n",
    "c2 = Counter(p2)\n",
    "c3 = Counter(p3)\n",
    "c4 = Counter(p4)"
   ]
  },
  {
   "cell_type": "code",
   "execution_count": 232,
   "metadata": {},
   "outputs": [],
   "source": [
    "c1_sum = 0\n",
    "\n",
    "for i in ['a', 'i', 'o', 'e', 'u']:\n",
    "    c1_sum +=c1[i]\n",
    "    \n",
    "c2_sum = 0\n",
    "\n",
    "for i in ['a', 'i', 'o', 'e', 'u']:\n",
    "    c2_sum +=c2[i]\n",
    "    \n",
    "c3_sum = 0\n",
    "\n",
    "for i in ['a', 'i', 'o', 'e', 'u']:\n",
    "    c3_sum +=c3[i]\n",
    "    \n",
    "c4_sum = 0\n",
    "\n",
    "for i in ['a', 'i', 'o', 'e', 'u']:\n",
    "    c4_sum +=c4[i]\n",
    "    \n"
   ]
  },
  {
   "cell_type": "code",
   "execution_count": 233,
   "metadata": {},
   "outputs": [
    {
     "name": "stdout",
     "output_type": "stream",
     "text": [
      "199 160 163 209\n"
     ]
    }
   ],
   "source": [
    "print(c1_sum, c2_sum, c3_sum, c4_sum)"
   ]
  },
  {
   "cell_type": "markdown",
   "metadata": {},
   "source": [
    "#### p4 has higest vowels"
   ]
  },
  {
   "cell_type": "code",
   "execution_count": 234,
   "metadata": {},
   "outputs": [],
   "source": [
    "largest = Counter(space)"
   ]
  },
  {
   "cell_type": "code",
   "execution_count": 235,
   "metadata": {},
   "outputs": [
    {
     "data": {
      "text/plain": [
       "[('', 35),\n",
       " ('and', 14),\n",
       " ('of', 12),\n",
       " ('the', 12),\n",
       " ('to', 12),\n",
       " ('a', 12),\n",
       " ('is', 8),\n",
       " ('brand', 8),\n",
       " ('your', 8),\n",
       " ('with', 7),\n",
       " ('customers', 6),\n",
       " ('that', 5),\n",
       " ('s', 4),\n",
       " ('you', 4),\n",
       " ('as', 4),\n",
       " ('or', 4),\n",
       " ('premium', 3),\n",
       " ('in', 3),\n",
       " ('has', 3),\n",
       " ('service', 3),\n",
       " ('helps', 3),\n",
       " ('product', 3),\n",
       " ('benefits', 3),\n",
       " ('value', 3),\n",
       " ('customer', 3),\n",
       " ('media', 2),\n",
       " ('such', 2),\n",
       " ('on', 2),\n",
       " ('upper', 2),\n",
       " ('more', 2),\n",
       " ('target', 2),\n",
       " ('concept', 2),\n",
       " ('forms', 2),\n",
       " ('for', 2),\n",
       " ('high', 2),\n",
       " ('use', 2),\n",
       " ('This', 2),\n",
       " ('social', 2),\n",
       " ('coffee', 2),\n",
       " ('instance', 2),\n",
       " ('Understanding', 2),\n",
       " ('offering', 2),\n",
       " ('Engagement', 2),\n",
       " ('into', 2),\n",
       " ('products', 2),\n",
       " ('word', 2),\n",
       " ('prefer', 2),\n",
       " ('communication', 2),\n",
       " ('market', 2),\n",
       " ('importance', 1),\n",
       " ('attached', 1),\n",
       " ('buzz', 1),\n",
       " ('habitual', 1),\n",
       " ('profit', 1),\n",
       " ('basic', 1),\n",
       " ('selling', 1),\n",
       " ('meshes', 1),\n",
       " ('end', 1),\n",
       " ('retailer', 1),\n",
       " ('mouth', 1),\n",
       " ('Customers', 1),\n",
       " ('ones', 1),\n",
       " ('marketing', 1),\n",
       " ('developed', 1),\n",
       " ('real', 1),\n",
       " ('Regardless', 1),\n",
       " ('these', 1),\n",
       " ('company', 1),\n",
       " ('generally', 1),\n",
       " ('fast', 1),\n",
       " ('One', 1),\n",
       " ('significantly', 1),\n",
       " ('know', 1),\n",
       " ('broadened', 1),\n",
       " ('have', 1),\n",
       " ('about', 1),\n",
       " ('home', 1),\n",
       " ('century', 1),\n",
       " ('promote', 1),\n",
       " ('interpersonal', 1),\n",
       " ('Emphasize', 1),\n",
       " ('people', 1),\n",
       " ('engage', 1),\n",
       " ('create', 1),\n",
       " ('marketplace', 1),\n",
       " ('buyer', 1),\n",
       " ('easier', 1),\n",
       " ('itself', 1),\n",
       " ('become', 1),\n",
       " ('exchange', 1),\n",
       " ('Research', 1),\n",
       " ('experiences', 1),\n",
       " ('particular', 1),\n",
       " ('oriented', 1),\n",
       " ('increasing', 1),\n",
       " ('appeal', 1),\n",
       " ('earn', 1),\n",
       " ('tailor', 1),\n",
       " ('discussions', 1),\n",
       " ('useful', 1),\n",
       " ('Benefits', 1),\n",
       " ('others', 1),\n",
       " ('Branding', 1),\n",
       " ('features', 1),\n",
       " ('common', 1),\n",
       " ('emotionally', 1),\n",
       " ('preferences', 1),\n",
       " ('consumers', 1),\n",
       " ('realm', 1),\n",
       " ('mixed', 1),\n",
       " ('prices', 1),\n",
       " ('purchase', 1),\n",
       " ('pay', 1),\n",
       " ('fashion', 1),\n",
       " ('based', 1),\n",
       " ('loyal', 1),\n",
       " ('price', 1),\n",
       " ('buy', 1),\n",
       " ('sense', 1),\n",
       " ('reasonable', 1),\n",
       " ('Personal', 1),\n",
       " ('an', 1),\n",
       " ('term', 1),\n",
       " ('who', 1),\n",
       " ('carry', 1),\n",
       " ('beans', 1),\n",
       " ('could', 1),\n",
       " ('luxury', 1),\n",
       " ('presence', 1),\n",
       " ('resonates', 1),\n",
       " ('motivates', 1),\n",
       " ('Getting', 1),\n",
       " ('Lexus', 1),\n",
       " ('incomes', 1),\n",
       " ('objectives', 1),\n",
       " ('hot', 1),\n",
       " ('present', 1),\n",
       " ('goods', 1),\n",
       " ('get', 1),\n",
       " ('it', 1),\n",
       " ('optimize', 1),\n",
       " ('early', 1),\n",
       " ('promotional', 1),\n",
       " ('built', 1),\n",
       " ('Twitter', 1),\n",
       " ('time', 1),\n",
       " ('reputation', 1),\n",
       " ('direct', 1),\n",
       " ('class', 1),\n",
       " ('techniques', 1),\n",
       " ('preferred', 1),\n",
       " ('Facebook', 1),\n",
       " ('Social', 1),\n",
       " ('image', 1),\n",
       " ('For', 1),\n",
       " ('routine', 1),\n",
       " ('Market', 1),\n",
       " ('low', 1),\n",
       " ('are', 1),\n",
       " ('most', 1),\n",
       " ('car', 1),\n",
       " ('better', 1),\n",
       " ('expect', 1),\n",
       " ('21st', 1),\n",
       " ('clear', 1),\n",
       " ('andto', 1),\n",
       " ('long', 1),\n",
       " ('email', 1),\n",
       " ('apparel', 1),\n",
       " ('messages', 1),\n",
       " ('Mart', 1),\n",
       " ('understand', 1),\n",
       " ('proposition', 1),\n",
       " ('interest', 1),\n",
       " ('uncertainty', 1),\n",
       " ('fashions', 1),\n",
       " ('critical', 1),\n",
       " ('impact', 1),\n",
       " ('may', 1),\n",
       " ('quickly', 1),\n",
       " ('largely', 1),\n",
       " ('status', 1),\n",
       " ('key', 1),\n",
       " ('beliefs', 1),\n",
       " ('what', 1),\n",
       " ('Turning', 1),\n",
       " ('offer', 1),\n",
       " ('middle', 1),\n",
       " ('its', 1),\n",
       " ('especially', 1),\n",
       " ('asopposed', 1),\n",
       " ('directly', 1),\n",
       " ('core', 1),\n",
       " ('venues', 1),\n",
       " ('taste', 1),\n",
       " ('As', 1),\n",
       " ('engagement', 1),\n",
       " ('Target', 1),\n",
       " ('move', 1),\n",
       " ('address', 1),\n",
       " ('good', 1),\n",
       " ('services', 1),\n",
       " ('research', 1),\n",
       " ('level', 1),\n",
       " ('them', 1),\n",
       " ('negative', 1),\n",
       " ('Wal', 1),\n",
       " ('telemarketing', 1),\n",
       " ('traditional', 1),\n",
       " ('this', 1),\n",
       " ('development', 1),\n",
       " ('quality', 1),\n",
       " ('interactive', 1),\n",
       " ('Having', 1),\n",
       " ('strong', 1),\n",
       " ('shop', 1),\n",
       " ('preference', 1)]"
      ]
     },
     "execution_count": 235,
     "metadata": {},
     "output_type": "execute_result"
    }
   ],
   "source": [
    "largest.most_common() #Most common word is and"
   ]
  },
  {
   "cell_type": "code",
   "execution_count": 236,
   "metadata": {},
   "outputs": [],
   "source": [
    "maxx = -100\n",
    "word = ''\n",
    "for i in space:\n",
    "    if len(i) > maxx:\n",
    "        word = i\n",
    "        maxx = len(i)"
   ]
  },
  {
   "cell_type": "code",
   "execution_count": 237,
   "metadata": {},
   "outputs": [
    {
     "data": {
      "text/plain": [
       "'Understanding'"
      ]
     },
     "execution_count": 237,
     "metadata": {},
     "output_type": "execute_result"
    }
   ],
   "source": [
    "word #Understanding is the biggest word"
   ]
  },
  {
   "cell_type": "code",
   "execution_count": 245,
   "metadata": {},
   "outputs": [
    {
     "name": "stdout",
     "output_type": "stream",
     "text": [
      "long-term\n",
      "upper-middle\n",
      "value-oriented\n",
      "Wal-Mart\n",
      "high-end\n",
      "real-time\n",
      "word-of-mouth.\n"
     ]
    }
   ],
   "source": [
    "for i in passage.split(' '):\n",
    "    if '-' in i:\n",
    "        print(i) #All the hyphenated words"
   ]
  },
  {
   "cell_type": "markdown",
   "metadata": {},
   "source": [
    "### Weekend Campaign  - Q3\n",
    "Dataset -> `Weekend_Campaign.xlsx`\n",
    "\n",
    "The campaign was tested in 24 stores on week end before launching in all stores.\n",
    "The growth figures(%) are tabulated in the data set.\n",
    "\n",
    "1.\tIs overall growth during campaign month significantly more than 20%? \n",
    "\n",
    "2.\tWhich factors have significant impact on growth? Perform detailed analysis.               \n",
    "\n",
    "3.  Which regions over a period of time have maximum growth?                     \n",
    "\n",
    "4.\tPresent the data graphically\n"
   ]
  },
  {
   "cell_type": "markdown",
   "metadata": {},
   "source": [
    "### Is overall growth during campaign month significantly more than 20%?"
   ]
  },
  {
   "cell_type": "code",
   "execution_count": 326,
   "metadata": {},
   "outputs": [],
   "source": [
    "weekend = pd.read_excel('Datasets/Weekend Campaign.xlsx', column = ['NORTH', 'WEST', 'SOUTH', 'EAST'])"
   ]
  },
  {
   "cell_type": "code",
   "execution_count": 339,
   "metadata": {},
   "outputs": [],
   "source": [
    "weekend.rename(columns=lambda x: x.strip(), inplace=True)"
   ]
  },
  {
   "cell_type": "code",
   "execution_count": 371,
   "metadata": {},
   "outputs": [],
   "source": [
    "shortened = weekend.groupby('Years')['NORTH', 'WEST', 'SOUTH', 'EAST'].mean()"
   ]
  },
  {
   "cell_type": "code",
   "execution_count": 372,
   "metadata": {},
   "outputs": [
    {
     "data": {
      "text/html": [
       "<div>\n",
       "<style scoped>\n",
       "    .dataframe tbody tr th:only-of-type {\n",
       "        vertical-align: middle;\n",
       "    }\n",
       "\n",
       "    .dataframe tbody tr th {\n",
       "        vertical-align: top;\n",
       "    }\n",
       "\n",
       "    .dataframe thead th {\n",
       "        text-align: right;\n",
       "    }\n",
       "</style>\n",
       "<table border=\"1\" class=\"dataframe\">\n",
       "  <thead>\n",
       "    <tr style=\"text-align: right;\">\n",
       "      <th></th>\n",
       "      <th>NORTH</th>\n",
       "      <th>WEST</th>\n",
       "      <th>SOUTH</th>\n",
       "      <th>EAST</th>\n",
       "    </tr>\n",
       "    <tr>\n",
       "      <th>Years</th>\n",
       "      <th></th>\n",
       "      <th></th>\n",
       "      <th></th>\n",
       "      <th></th>\n",
       "    </tr>\n",
       "  </thead>\n",
       "  <tbody>\n",
       "    <tr>\n",
       "      <th>0-1</th>\n",
       "      <td>21.90</td>\n",
       "      <td>20.80</td>\n",
       "      <td>23.80</td>\n",
       "      <td>19.55</td>\n",
       "    </tr>\n",
       "    <tr>\n",
       "      <th>1-3</th>\n",
       "      <td>18.75</td>\n",
       "      <td>18.60</td>\n",
       "      <td>18.55</td>\n",
       "      <td>16.85</td>\n",
       "    </tr>\n",
       "    <tr>\n",
       "      <th>3-5</th>\n",
       "      <td>16.90</td>\n",
       "      <td>15.95</td>\n",
       "      <td>16.20</td>\n",
       "      <td>17.70</td>\n",
       "    </tr>\n",
       "  </tbody>\n",
       "</table>\n",
       "</div>"
      ],
      "text/plain": [
       "       NORTH  WEST  SOUTH  EAST\n",
       "Years                          \n",
       "0-1    21.90 20.80  23.80 19.55\n",
       "1-3    18.75 18.60  18.55 16.85\n",
       "3-5    16.90 15.95  16.20 17.70"
      ]
     },
     "execution_count": 372,
     "metadata": {},
     "output_type": "execute_result"
    }
   ],
   "source": [
    "shortened"
   ]
  },
  {
   "cell_type": "code",
   "execution_count": 404,
   "metadata": {},
   "outputs": [
    {
     "data": {
      "text/plain": [
       "21.5125"
      ]
     },
     "execution_count": 404,
     "metadata": {},
     "output_type": "execute_result"
    }
   ],
   "source": [
    "shortened.iloc[0].values.mean() #this is the mean of campaign month"
   ]
  },
  {
   "cell_type": "markdown",
   "metadata": {},
   "source": [
    "##### Now we are gonna perform hypothesis testing, to decide if the above mean is sin"
   ]
  },
  {
   "cell_type": "code",
   "execution_count": 378,
   "metadata": {},
   "outputs": [],
   "source": [
    "from scipy.stats import ttest_1samp"
   ]
  },
  {
   "cell_type": "markdown",
   "metadata": {},
   "source": [
    "###### Null hypothesis: They're not different; Alt. hypothesis, they're different"
   ]
  },
  {
   "cell_type": "code",
   "execution_count": 381,
   "metadata": {},
   "outputs": [
    {
     "data": {
      "text/plain": [
       "Ttest_1sampResult(statistic=1.6786676842281725, pvalue=0.19180931946386995)"
      ]
     },
     "execution_count": 381,
     "metadata": {},
     "output_type": "execute_result"
    }
   ],
   "source": [
    "ttest_1samp(shortened.iloc[0].values, 20)\n",
    "# p-value isn't less than 0.05, so we can't reject null hypothesis. "
   ]
  },
  {
   "cell_type": "markdown",
   "metadata": {},
   "source": [
    "### Which factors have significant impact on growth? Perform detailed analysis."
   ]
  },
  {
   "cell_type": "markdown",
   "metadata": {},
   "source": [
    "We can see from the attached factor.html file,  WEST is highly correlated with SOUTH (ρ = 0.9636752494), SOUTH is highly correlated with NORTH (ρ = 0.9976995899)\n",
    "Further, Years also seem to have big impact on growth, after couple of years, growth percentage starts reaching a plateau. Which quite makes sense, as the later percentage are \n",
    "parts of much bigger organizations or companies. Initial percentage were part of smaller company. With such small features, it's difficult to conjecture more. \n"
   ]
  },
  {
   "cell_type": "markdown",
   "metadata": {},
   "source": [
    "### Which regions over a period of time have maximum growth?"
   ]
  },
  {
   "cell_type": "code",
   "execution_count": 405,
   "metadata": {},
   "outputs": [],
   "source": [
    "def calc_growth(array):\n",
    "    curr = 100\n",
    "    for i in range(len(array)):\n",
    "        curr = array[i] * curr + curr\n",
    "    return curr"
   ]
  },
  {
   "cell_type": "code",
   "execution_count": 407,
   "metadata": {},
   "outputs": [],
   "source": [
    "north_growth = calc_growth(shortened['NORTH'].values)\n",
    "south_growth = calc_growth(shortened['SOUTH'].values)\n",
    "east_growth = calc_growth(shortened['EAST'].values)\n",
    "west_growth = calc_growth(shortened['WEST'].values)"
   ]
  },
  {
   "cell_type": "code",
   "execution_count": 408,
   "metadata": {},
   "outputs": [
    {
     "name": "stdout",
     "output_type": "stream",
     "text": [
      "This is north_growth 809572.2499999999\n",
      "This is south_growth 833924.7999999999\n",
      "This is west_growth 724239.5999999999\n",
      "This is east_growth 685948.7250000001\n"
     ]
    }
   ],
   "source": [
    "print(\"This is north_growth\", north_growth)\n",
    "print(\"This is south_growth\", south_growth)\n",
    "print(\"This is west_growth\", west_growth)\n",
    "print(\"This is east_growth\", east_growth)"
   ]
  },
  {
   "cell_type": "markdown",
   "metadata": {},
   "source": [
    "##### As we can see here, South had maximum growth over time"
   ]
  },
  {
   "cell_type": "markdown",
   "metadata": {},
   "source": [
    "### Present the data graphically"
   ]
  },
  {
   "cell_type": "code",
   "execution_count": 396,
   "metadata": {},
   "outputs": [
    {
     "data": {
      "text/plain": [
       "<matplotlib.legend.Legend at 0x7f9d393a7470>"
      ]
     },
     "execution_count": 396,
     "metadata": {},
     "output_type": "execute_result"
    },
    {
     "data": {
      "image/png": "[encoded data removed]",
      "text/plain": [
       "<Figure size 576x396 with 1 Axes>"
      ]
     },
     "metadata": {},
     "output_type": "display_data"
    }
   ],
   "source": [
    "plt.plot(shortened['NORTH'], label='north')\n",
    "plt.plot(shortened['SOUTH'], label='south')\n",
    "plt.plot(shortened['EAST'], label='east')\n",
    "plt.plot(shortened['WEST'], label='west')\n",
    "plt.legend()"
   ]
  },
  {
   "cell_type": "markdown",
   "metadata": {},
   "source": [
    "## Questions S2\n",
    "1. The mean of 10 numbers is 80. One number was wrongly recorded as 2 instead of 12. Find the correct mean.\n",
    "\n",
    "\n",
    "2. The Pearson’s correlation coefficients (Pearson’s) between X and Y is 1.5.\n",
    "\n",
    "    a) X and Y are highly correlated \n",
    "\n",
    "    b) No correlation between X and Y\n",
    "\n",
    "    c) Possible calculation error.\n",
    "\n",
    "                                                                   \n",
    "3.\tWhich of the following is a measure of variation?\n",
    "\n",
    "    a) Median \n",
    "\n",
    "    b) Standard Deviation \n",
    "\n",
    "    c) Third quartile                     \n",
    "\n",
    "\n",
    "4.\tExplain the difference between “Parametric Test’ and ‘Non Parametric Test’\n",
    "\n",
    "\n",
    "5. Factor loading Lij is same as variance of Xi (True or False)\n",
    "\n",
    "\n",
    "6. K means clustering is one of the hierarchical clustering method. (True or False)\n",
    "\n",
    "\n",
    "7. What may be the effect of ignoring autocorrelation in error terms in linear regression using time series data?\n",
    "\n",
    "\n",
    "8. Distinguish between time series data and panel data using suitable example.\n",
    "\n",
    "\n",
    "9. The principal component analysis is performed using correlation matrix of 8 variables. What is the proportion of variance explained by the principal components? what components are to be chosen to plot graphically in 3D?\n",
    "\n",
    "\n",
    "PC1 - > 3.07\n",
    "\n",
    "PC2 - > 1.91\n",
    "\n",
    "PC3 - > 2.40\n",
    "\n",
    "PC4 - > 4.11\n",
    "\n",
    "PC5 - > 0.68\n",
    "\n",
    "PC6 - > 3.24\n",
    "\n",
    "PC7 - > 1.35\n",
    "\n",
    "PC8 - > 0.11\n"
   ]
  },
  {
   "cell_type": "raw",
   "metadata": {},
   "source": [
    " QS2.1    Correct mean is 81\n",
    " QS2.2    It should be less than 1, as PCC is between -1 and 1. so it's Possible calculation error\n",
    " QS2.3    Standard deviation, square root of variance, is measure of variation\n",
    " QS2.4    Non-parametric test don't rely on internal distribution of data, whereas parametric test do rely on internal distribution of data. For example, we\n",
    "          use man-whitney U test, when assumptions held by T-test aren't met, it's an example of non-parametric test. \n",
    " QS2.5    No reference of Lij or Xi is discussed before, difficult to say anything about it. \n",
    " QS2.6    False\n",
    " QS2.7    Linear-regression doesn't work well then, as basis assumption held is that data has no bias and no correlation. \n",
    " QS2.8    A very trivial definition can be, that time-series data focuses on specific features. Where as panel data focuses on multiple features. \n",
    " QS2.9    I need more context, as for what exactly are those numbers, and how were they obtained in order to explain variance ratio. Also, we need 3 \n",
    "          components for plotting graphically in 3D. \n",
    "          "
   ]
  },
  {
   "cell_type": "code",
   "execution_count": null,
   "metadata": {},
   "outputs": [],
   "source": []
  },
  {
   "cell_type": "code",
   "execution_count": null,
   "metadata": {},
   "outputs": [],
   "source": []
  },
  {
   "cell_type": "code",
   "execution_count": null,
   "metadata": {},
   "outputs": [],
   "source": []
  },
  {
   "cell_type": "code",
   "execution_count": null,
   "metadata": {},
   "outputs": [],
   "source": []
  },
  {
   "cell_type": "code",
   "execution_count": null,
   "metadata": {},
   "outputs": [],
   "source": []
  },
  {
   "cell_type": "code",
   "execution_count": null,
   "metadata": {},
   "outputs": [],
   "source": []
  },
  {
   "cell_type": "code",
   "execution_count": null,
   "metadata": {},
   "outputs": [],
   "source": []
  },
  {
   "cell_type": "code",
   "execution_count": null,
   "metadata": {},
   "outputs": [],
   "source": []
  },
  {
   "cell_type": "code",
   "execution_count": null,
   "metadata": {},
   "outputs": [],
   "source": []
  },
  {
   "cell_type": "code",
   "execution_count": null,
   "metadata": {},
   "outputs": [],
   "source": []
  },
  {
   "cell_type": "code",
   "execution_count": null,
   "metadata": {},
   "outputs": [],
   "source": []
  },
  {
   "cell_type": "code",
   "execution_count": null,
   "metadata": {},
   "outputs": [],
   "source": []
  },
  {
   "cell_type": "code",
   "execution_count": null,
   "metadata": {},
   "outputs": [],
   "source": []
  },
  {
   "cell_type": "code",
   "execution_count": null,
   "metadata": {},
   "outputs": [],
   "source": []
  },
  {
   "cell_type": "code",
   "execution_count": null,
   "metadata": {},
   "outputs": [],
   "source": []
  },
  {
   "cell_type": "code",
   "execution_count": null,
   "metadata": {},
   "outputs": [],
   "source": []
  }
 ],
 "metadata": {
  "kernelspec": {
   "display_name": "Python 3",
   "language": "python",
   "name": "python3"
  },
  "language_info": {
   "codemirror_mode": {
    "name": "ipython",
    "version": 3
   },
   "file_extension": ".py",
   "mimetype": "text/x-python",
   "name": "python",
   "nbconvert_exporter": "python",
   "pygments_lexer": "ipython3",
   "version": "3.5.6"
  }
 },
 "nbformat": 4,
 "nbformat_minor": 2
}
