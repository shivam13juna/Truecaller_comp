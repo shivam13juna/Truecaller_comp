{
 "cells": [
  {
   "cell_type": "code",
   "execution_count": 6,
   "metadata": {},
   "outputs": [],
   "source": [
    "import numpy as np\n",
    "import pandas as pd\n",
    "import pandas_profiling as pp\n",
    "import matplotlib.pyplot as plt\n",
    "import pdfkit\n",
    "\n",
    "\n",
    "\n",
    "\n",
    "%matplotlib inline"
   ]
  },
  {
   "cell_type": "markdown",
   "metadata": {},
   "source": [
    "### Truecaller candidate test\n",
    "\n",
    "    Canditates : Data Roles\n",
    "                 0-2y\n",
    "                 Data Interns, Data Analyst, Associate Data Scientist\n",
    "    \n",
    "    Difficulty : (Level 1-3) of Level 5\n",
    "    \n",
    " ``Please try to use functions and classes where-ever possible, be descriptive & efficient with your code, best of luck!``"
   ]
  },
  {
   "cell_type": "markdown",
   "metadata": {},
   "source": [
    "## Questions S1"
   ]
  },
  {
   "cell_type": "markdown",
   "metadata": {},
   "source": [
    "### Telecom industry - Q1\n",
    "Dataset -> `TelecomData_WeeklyData.csv`\n",
    "\n",
    "CUSTID: Is the unique customer information stored in the system\n",
    "In our case, it is only 1 customer information\n",
    "\n",
    "Week: Capture the spending and usage information for each week of the customer duration with the company\n",
    "We have 6 month or 24 weeks weekly information for the customer\n",
    "\n",
    "Calls: The number of calls made by the customer each week. It is the frequency of the calls\n",
    "Minutes: The total minutes spent each week on the calls\n",
    "    \n",
    "Amt: The total weekly spending by the customer for the use of telecom service"
   ]
  },
  {
   "cell_type": "markdown",
   "metadata": {},
   "source": [
    "Q1 - A telecom operator company wishes have some of their most active/spend worthy users rewarded to reduce churn, statistically find these users and graphically plot them based on variables in-order to select the best chunk of users?\n",
    "\n",
    "\n",
    "Q2 - Who are our customers? Profile them elaborately \n",
    "\n",
    "\n",
    "Q3 - The startup has 4 offers running on a daily basis (valid for a day)\n",
    "\t\tRecharge - 20 for 10 Mins\n",
    "\t\tRecharge - 30 for 40 Mins\n",
    "\t\tRecharge - 40 for 80 Mins\n",
    "\t\tRecharge - 50 for 100 Mins\n",
    "\n",
    "Their second recharge pack doesn't seem to perform as required, the others fetching ~100 recharges per day in a week on what day would it be advisable for the company to sell these recharges and boost calls made by users\n",
    "\n",
    "Q4 - An investor wishes to see week,month and yearly metrics, derive maxmimum insights from the data\n",
    "\n",
    "Q5 - Insight day is here again, provide insights about each user, around (hours,calls,amount etc) etc, provide insights about 5-6 users based on their significant behaviour "
   ]
  },
  {
   "cell_type": "code",
   "execution_count": 3,
   "metadata": {},
   "outputs": [],
   "source": [
    "q1 = pd.read_csv('Datasets/TelecomData_WeeklyData.csv')"
   ]
  },
  {
   "cell_type": "code",
   "execution_count": 4,
   "metadata": {},
   "outputs": [
    {
     "data": {
      "text/plain": [
       "(23828, 5)"
      ]
     },
     "execution_count": 4,
     "metadata": {},
     "output_type": "execute_result"
    }
   ],
   "source": [
    "q1.shape"
   ]
  },
  {
   "cell_type": "code",
   "execution_count": 5,
   "metadata": {},
   "outputs": [
    {
     "name": "stderr",
     "output_type": "stream",
     "text": [
      "/usr/local/lib/python3.5/dist-packages/pandas_profiling/__init__.py:53: UserWarning: Sorting is supported from Python 3.6+\n",
      "  warnings.warn(\"Sorting is supported from Python 3.6+\")\n"
     ]
    }
   ],
   "source": [
    "abt_q1 = pp.ProfileReport(q1)"
   ]
  },
  {
   "cell_type": "code",
   "execution_count": 12,
   "metadata": {},
   "outputs": [
    {
     "ename": "OSError",
     "evalue": "No wkhtmltopdf executable found: \"b''\"\nIf this file exists please check that this process can read it. Otherwise please install wkhtmltopdf - https://github.com/JazzCore/python-pdfkit/wiki/Installing-wkhtmltopdf",
     "output_type": "error",
     "traceback": [
      "\u001b[0;31m---------------------------------------------------------------------------\u001b[0m",
      "\u001b[0;31mFileNotFoundError\u001b[0m                         Traceback (most recent call last)",
      "\u001b[0;32m/usr/local/lib/python3.5/dist-packages/pdfkit/configuration.py\u001b[0m in \u001b[0;36m__init__\u001b[0;34m(self, wkhtmltopdf, meta_tag_prefix)\u001b[0m\n\u001b[1;32m     20\u001b[0m         \u001b[0;32mtry\u001b[0m\u001b[0;34m:\u001b[0m\u001b[0;34m\u001b[0m\u001b[0m\n\u001b[0;32m---> 21\u001b[0;31m             \u001b[0;32mwith\u001b[0m \u001b[0mopen\u001b[0m\u001b[0;34m(\u001b[0m\u001b[0mself\u001b[0m\u001b[0;34m.\u001b[0m\u001b[0mwkhtmltopdf\u001b[0m\u001b[0;34m)\u001b[0m \u001b[0;32mas\u001b[0m \u001b[0mf\u001b[0m\u001b[0;34m:\u001b[0m\u001b[0;34m\u001b[0m\u001b[0m\n\u001b[0m\u001b[1;32m     22\u001b[0m                 \u001b[0;32mpass\u001b[0m\u001b[0;34m\u001b[0m\u001b[0m\n",
      "\u001b[0;31mFileNotFoundError\u001b[0m: [Errno 2] No such file or directory: b''",
      "\nDuring handling of the above exception, another exception occurred:\n",
      "\u001b[0;31mOSError\u001b[0m                                   Traceback (most recent call last)",
      "\u001b[0;32m<ipython-input-12-5178e064aa34>\u001b[0m in \u001b[0;36m<module>\u001b[0;34m\u001b[0m\n\u001b[1;32m      1\u001b[0m \u001b[0mabt_q1\u001b[0m\u001b[0;34m.\u001b[0m\u001b[0mto_file\u001b[0m\u001b[0;34m(\u001b[0m\u001b[0;34m'abt_q1.html'\u001b[0m\u001b[0;34m)\u001b[0m\u001b[0;34m\u001b[0m\u001b[0m\n\u001b[0;32m----> 2\u001b[0;31m \u001b[0mpdfkit\u001b[0m\u001b[0;34m.\u001b[0m\u001b[0mfrom_file\u001b[0m\u001b[0;34m(\u001b[0m\u001b[0;34m'abt_q1.html'\u001b[0m\u001b[0;34m,\u001b[0m \u001b[0;34m'weekly_data.pdf'\u001b[0m\u001b[0;34m)\u001b[0m\u001b[0;34m\u001b[0m\u001b[0m\n\u001b[0m",
      "\u001b[0;32m/usr/local/lib/python3.5/dist-packages/pdfkit/api.py\u001b[0m in \u001b[0;36mfrom_file\u001b[0;34m(input, output_path, options, toc, cover, css, configuration, cover_first)\u001b[0m\n\u001b[1;32m     45\u001b[0m \u001b[0;34m\u001b[0m\u001b[0m\n\u001b[1;32m     46\u001b[0m     r = PDFKit(input, 'file', options=options, toc=toc, cover=cover, css=css,\n\u001b[0;32m---> 47\u001b[0;31m                configuration=configuration, cover_first=cover_first)\n\u001b[0m\u001b[1;32m     48\u001b[0m \u001b[0;34m\u001b[0m\u001b[0m\n\u001b[1;32m     49\u001b[0m     \u001b[0;32mreturn\u001b[0m \u001b[0mr\u001b[0m\u001b[0;34m.\u001b[0m\u001b[0mto_pdf\u001b[0m\u001b[0;34m(\u001b[0m\u001b[0moutput_path\u001b[0m\u001b[0;34m)\u001b[0m\u001b[0;34m\u001b[0m\u001b[0m\n",
      "\u001b[0;32m/usr/local/lib/python3.5/dist-packages/pdfkit/pdfkit.py\u001b[0m in \u001b[0;36m__init__\u001b[0;34m(self, url_or_file, type_, options, toc, cover, css, configuration, cover_first)\u001b[0m\n\u001b[1;32m     40\u001b[0m \u001b[0;34m\u001b[0m\u001b[0m\n\u001b[1;32m     41\u001b[0m         \u001b[0mself\u001b[0m\u001b[0;34m.\u001b[0m\u001b[0msource\u001b[0m \u001b[0;34m=\u001b[0m \u001b[0mSource\u001b[0m\u001b[0;34m(\u001b[0m\u001b[0murl_or_file\u001b[0m\u001b[0;34m,\u001b[0m \u001b[0mtype_\u001b[0m\u001b[0;34m)\u001b[0m\u001b[0;34m\u001b[0m\u001b[0m\n\u001b[0;32m---> 42\u001b[0;31m         self.configuration = (Configuration() if configuration is None\n\u001b[0m\u001b[1;32m     43\u001b[0m                               else configuration)\n\u001b[1;32m     44\u001b[0m         \u001b[0;32mtry\u001b[0m\u001b[0;34m:\u001b[0m\u001b[0;34m\u001b[0m\u001b[0m\n",
      "\u001b[0;32m/usr/local/lib/python3.5/dist-packages/pdfkit/configuration.py\u001b[0m in \u001b[0;36m__init__\u001b[0;34m(self, wkhtmltopdf, meta_tag_prefix)\u001b[0m\n\u001b[1;32m     25\u001b[0m                           \u001b[0;34m'If this file exists please check that this process can '\u001b[0m\u001b[0;34m\u001b[0m\u001b[0m\n\u001b[1;32m     26\u001b[0m                           \u001b[0;34m'read it. Otherwise please install wkhtmltopdf - '\u001b[0m\u001b[0;34m\u001b[0m\u001b[0m\n\u001b[0;32m---> 27\u001b[0;31m                           'https://github.com/JazzCore/python-pdfkit/wiki/Installing-wkhtmltopdf' % self.wkhtmltopdf)\n\u001b[0m",
      "\u001b[0;31mOSError\u001b[0m: No wkhtmltopdf executable found: \"b''\"\nIf this file exists please check that this process can read it. Otherwise please install wkhtmltopdf - https://github.com/JazzCore/python-pdfkit/wiki/Installing-wkhtmltopdf"
     ]
    }
   ],
   "source": [
    "abt_q1.to_file('abt_q1.html')\n",
    "# pdfkit.from_file('abt_q1.html', 'weekly_data.pdf')"
   ]
  },
  {
   "cell_type": "code",
   "execution_count": null,
   "metadata": {},
   "outputs": [],
   "source": []
  },
  {
   "cell_type": "code",
   "execution_count": null,
   "metadata": {},
   "outputs": [],
   "source": []
  },
  {
   "cell_type": "code",
   "execution_count": null,
   "metadata": {},
   "outputs": [],
   "source": []
  },
  {
   "cell_type": "code",
   "execution_count": null,
   "metadata": {},
   "outputs": [],
   "source": []
  },
  {
   "cell_type": "code",
   "execution_count": null,
   "metadata": {},
   "outputs": [],
   "source": []
  },
  {
   "cell_type": "code",
   "execution_count": null,
   "metadata": {},
   "outputs": [],
   "source": []
  },
  {
   "cell_type": "markdown",
   "metadata": {},
   "source": [
    "### Brand Preference - Q2\n",
    "Dataset -> `Brand_Preference.csv`\n",
    "\n",
    "Q1. Brands (BP -> Brand Perference)\n",
    "\n",
    "    A -> Elecktra (BP -> 3,5)\n",
    "    B -> Velzoy (BP -> 1,2)\n",
    "    C -> DemiCube (BP -> 3,2)\n",
    "    D -> Harpy (BP -> 3,4)\n",
    "    E -> 18Again (BP -> 4,5)\n",
    "\n",
    "Which brand would be the best to on-board considering our target market is already established\n",
    "with ages below 25 & above 45\n",
    "\n",
    "Q2. A fellow co-worker would like to plot respondents brand preference based on three categorical levels, where the levels exist as columns, provide the dataset to them in a file format\n",
    "\n",
    "Q3. What would be the most preffered brand based solely on brand preference\n",
    "\n",
    "Q4. Regular Expressions\n",
    "\n",
    "\"\"\"`Branding\n",
    "One of the most critical and basic long-term objectives of marketing is to brand your company or product. This is the use of promotional techniques to create a particular reputation that resonates with target customers. Lexus has developed itself as a luxury and status car brand for people with upper-middle to upper class incomes. Target is a value-oriented retailer of fashion, apparel and home goods. Wal-Mart has built its brand on low prices. Regardless of the image, consumers prefer to purchase products and services that offer a clear value proposition as opposed to ones with uncertainty or mixed messages.`\n",
    "\n",
    "`Research\n",
    "Market research is key to increasing brand preferences, as the more you understand about what motivates your customers the easier it is to appeal to them. Getting to know the core beliefs that your products carry into the marketplace is especially useful. For instance, customers who buy high-end fashions generally expect to get a high level of service and to pay a premium price. Understanding this helps you to better tailor your offering to present good benefits and earn reasonable profit.`\n",
    "\n",
    "`Emphasize Benefits\n",
    "Turning a habitual or routine buyer into an emotionally attached, loyal customer with a strong brand preference is largely based on the customer's sense of value. Understanding your target market's preferred product or service features and benefits helps you optimize your offering and promote a product concept that meshes with the market's interest. As a premium coffee shop, for instance, your customers may prefer benefits such as taste quality, premium coffee beans, and fast customer service.`\n",
    "\n",
    "`Engagement\n",
    "\"Engagement\" has become a hot buzz word in early 21st century brand development. This is the use of more direct, interactive forms of communication with customers. Personal selling, email and and telemarketing are common, traditional forms of interpersonal communication. Social media, such as Twitter and Facebook, have significantly broadened the concept and importance of brand engagement. Customers move quickly and exchange experiences with others in these real-time social venues. Having a presence in the social media realm helps you directly engage customers and address negative discussions that could impact your brand's word-of-mouth.`\"\"\"\n",
    " \n",
    "     1 - Remove all special characters\n",
    "     \n",
    "     2 - Find all words with \"ing\"\n",
    "     \n",
    "     3 - Which paragraph has the most vowels\n",
    "     \n",
    "     4 - Find the largest word & most repeated word\n",
    "     \n",
    "     5 - Find all hyphenated words\n",
    "\n",
    "**Output for 2,5 must been in a list/array format "
   ]
  },
  {
   "cell_type": "markdown",
   "metadata": {},
   "source": [
    "### Weekend Campaign  - Q3\n",
    "Dataset -> `Weekend_Campaign.xlsx`\n",
    "\n",
    "The campaign was tested in 24 stores on week end before launching in all stores.\n",
    "The growth figures(%) are tabulated in the data set.\n",
    "\n",
    "1.\tIs overall growth during campaign month significantly more than 20%? \n",
    "\n",
    "2.\tWhich factors have significant impact on growth? Perform detailed analysis.               \n",
    "\n",
    "3.  Which regions over a period of time have maximum growth?                     \n",
    "\n",
    "4.\tPresent the data graphically\n"
   ]
  },
  {
   "cell_type": "markdown",
   "metadata": {},
   "source": [
    "## Questions S2\n",
    "1. The mean of 10 numbers is 80. One number was wrongly recorded as 2 instead of 12. Find the correct mean.\n",
    "\n",
    "\n",
    "2. The Pearson’s correlation coefficients (Pearson’s) between X and Y is 1.5.\n",
    "\n",
    "    a) X and Y are highly correlated \n",
    "\n",
    "    b) No correlation between X and Y\n",
    "\n",
    "    c) Possible calculation error.\n",
    "\n",
    "                                                                   \n",
    "3.\tWhich of the following is a measure of variation?\n",
    "\n",
    "    a) Median \n",
    "\n",
    "    b) Standard Deviation \n",
    "\n",
    "    c) Third quartile                     \n",
    "\n",
    "\n",
    "4.\tExplain the difference between “Parametric Test’ and ‘Non Parametric Test’\n",
    "\n",
    "\n",
    "5. Factor loading Lij is same as variance of Xi (True or False)\n",
    "\n",
    "\n",
    "6. K means clustering is one of the hierarchical clustering method. (True or False)\n",
    "\n",
    "\n",
    "7. What may be the effect of ignoring autocorrelation in error terms in linear regression using time series data?\n",
    "\n",
    "\n",
    "8. Distinguish between time series data and panel data using suitable example.\n",
    "\n",
    "\n",
    "9. The principal component analysis is performed using correlation matrix of 8 variables. What is the proportion of variance explained by the principal components? what components are to be chosen to plot graphically in 3D?\n",
    "\n",
    "\n",
    "`PC1 - > 3.07\n",
    "PC2 - > 1.91\n",
    "PC3 - > 2.40\n",
    "PC4 - > 4.11\n",
    "PC5 - > 0.68\n",
    "PC6 - > 3.24\n",
    "PC7 - > 1.35\n",
    "PC8 - > 0.11`\n"
   ]
  },
  {
   "cell_type": "code",
   "execution_count": null,
   "metadata": {},
   "outputs": [],
   "source": []
  }
 ],
 "metadata": {
  "kernelspec": {
   "display_name": "Python 3",
   "language": "python",
   "name": "python3"
  },
  "language_info": {
   "codemirror_mode": {
    "name": "ipython",
    "version": 3
   },
   "file_extension": ".py",
   "mimetype": "text/x-python",
   "name": "python",
   "nbconvert_exporter": "python",
   "pygments_lexer": "ipython3",
   "version": "3.5.7"
  }
 },
 "nbformat": 4,
 "nbformat_minor": 2
}
